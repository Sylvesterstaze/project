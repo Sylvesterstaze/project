{
  "nbformat": 4,
  "nbformat_minor": 0,
  "metadata": {
    "colab": {
      "name": "CHENNAI_HOUSE_PRED.ipynb",
      "provenance": [],
      "collapsed_sections": []
    },
    "kernelspec": {
      "name": "python3",
      "display_name": "Python 3"
    },
    "language_info": {
      "name": "python"
    }
  },
  "cells": [
    {
      "cell_type": "code",
      "execution_count": 1,
      "metadata": {
        "id": "lU3sdZNtafHP",
        "colab": {
          "base_uri": "https://localhost:8080/",
          "height": 661
        },
        "outputId": "0e45d229-297a-4a64-fb10-fcf316bf92ae"
      },
      "outputs": [
        {
          "output_type": "execute_result",
          "data": {
            "text/plain": [
              "      PRT_ID        AREA  INT_SQFT   DATE_SALE  DIST_MAINROAD  N_BEDROOM  \\\n",
              "0     P03210  Karapakkam      1004  04-05-2011            131        1.0   \n",
              "1     P09411  Anna Nagar      1986  19-12-2006             26        2.0   \n",
              "2     P01812       Adyar       909  04-02-2012             70        1.0   \n",
              "3     P05346   Velachery      1855  13-03-2010             14        3.0   \n",
              "4     P06210  Karapakkam      1226  05-10-2009             84        1.0   \n",
              "...      ...         ...       ...         ...            ...        ...   \n",
              "7104  P03834  Karapakkam       598  03-01-2011             51        1.0   \n",
              "7105  P10000   Velachery      1897  08-04-2004             52        3.0   \n",
              "7106  P09594   Velachery      1614  25-08-2006            152        2.0   \n",
              "7107  P06508  Karapakkam       787  03-08-2009             40        1.0   \n",
              "7108  P09794   Velachery      1896  13-07-2005            156        3.0   \n",
              "\n",
              "      N_BATHROOM  N_ROOM    SALE_COND PARK_FACIL  ... UTILITY_AVAIL  \\\n",
              "0            1.0       3     AbNormal        Yes  ...        AllPub   \n",
              "1            1.0       5     AbNormal         No  ...        AllPub   \n",
              "2            1.0       3     AbNormal        Yes  ...           ELO   \n",
              "3            2.0       5       Family         No  ...       NoSewr    \n",
              "4            1.0       3     AbNormal        Yes  ...        AllPub   \n",
              "...          ...     ...          ...        ...  ...           ...   \n",
              "7104         1.0       2      AdjLand         No  ...           ELO   \n",
              "7105         2.0       5       Family        Yes  ...        NoSeWa   \n",
              "7106         1.0       4  Normal Sale         No  ...        NoSeWa   \n",
              "7107         1.0       2      Partial        Yes  ...           ELO   \n",
              "7108         2.0       5      Partial        Yes  ...           ELO   \n",
              "\n",
              "         STREET MZZONE QS_ROOMS QS_BATHROOM  QS_BEDROOM  QS_OVERALL  REG_FEE  \\\n",
              "0         Paved      A      4.0         3.9         4.9       4.330   380000   \n",
              "1        Gravel     RH      4.9         4.2         2.5       3.765   760122   \n",
              "2        Gravel     RL      4.1         3.8         2.2       3.090   421094   \n",
              "3         Paved      I      4.7         3.9         3.6       4.010   356321   \n",
              "4        Gravel      C      3.0         2.5         4.1       3.290   237000   \n",
              "...         ...    ...      ...         ...         ...         ...      ...   \n",
              "7104  No Access     RM      3.0         2.2         2.4       2.520   208767   \n",
              "7105  No Access     RH      3.6         4.5         3.3       3.920   346191   \n",
              "7106     Gravel      I      4.3         4.2         2.9       3.840   317354   \n",
              "7107      Paved     RL      4.6         3.8         4.1       4.160   425350   \n",
              "7108      Paved      I      3.1         3.5         4.3       3.640   349177   \n",
              "\n",
              "      COMMIS  SALES_PRICE  \n",
              "0     144400      7600000  \n",
              "1     304049     21717770  \n",
              "2      92114     13159200  \n",
              "3      77042      9630290  \n",
              "4      74063      7406250  \n",
              "...      ...          ...  \n",
              "7104  107060      5353000  \n",
              "7105  205551     10818480  \n",
              "7106  167028      8351410  \n",
              "7107  119098      8507000  \n",
              "7108   79812      9976480  \n",
              "\n",
              "[7109 rows x 22 columns]"
            ],
            "text/html": [
              "\n",
              "  <div id=\"df-402afd1f-ff16-4a3b-b57a-de3dd4ab5e85\">\n",
              "    <div class=\"colab-df-container\">\n",
              "      <div>\n",
              "<style scoped>\n",
              "    .dataframe tbody tr th:only-of-type {\n",
              "        vertical-align: middle;\n",
              "    }\n",
              "\n",
              "    .dataframe tbody tr th {\n",
              "        vertical-align: top;\n",
              "    }\n",
              "\n",
              "    .dataframe thead th {\n",
              "        text-align: right;\n",
              "    }\n",
              "</style>\n",
              "<table border=\"1\" class=\"dataframe\">\n",
              "  <thead>\n",
              "    <tr style=\"text-align: right;\">\n",
              "      <th></th>\n",
              "      <th>PRT_ID</th>\n",
              "      <th>AREA</th>\n",
              "      <th>INT_SQFT</th>\n",
              "      <th>DATE_SALE</th>\n",
              "      <th>DIST_MAINROAD</th>\n",
              "      <th>N_BEDROOM</th>\n",
              "      <th>N_BATHROOM</th>\n",
              "      <th>N_ROOM</th>\n",
              "      <th>SALE_COND</th>\n",
              "      <th>PARK_FACIL</th>\n",
              "      <th>...</th>\n",
              "      <th>UTILITY_AVAIL</th>\n",
              "      <th>STREET</th>\n",
              "      <th>MZZONE</th>\n",
              "      <th>QS_ROOMS</th>\n",
              "      <th>QS_BATHROOM</th>\n",
              "      <th>QS_BEDROOM</th>\n",
              "      <th>QS_OVERALL</th>\n",
              "      <th>REG_FEE</th>\n",
              "      <th>COMMIS</th>\n",
              "      <th>SALES_PRICE</th>\n",
              "    </tr>\n",
              "  </thead>\n",
              "  <tbody>\n",
              "    <tr>\n",
              "      <th>0</th>\n",
              "      <td>P03210</td>\n",
              "      <td>Karapakkam</td>\n",
              "      <td>1004</td>\n",
              "      <td>04-05-2011</td>\n",
              "      <td>131</td>\n",
              "      <td>1.0</td>\n",
              "      <td>1.0</td>\n",
              "      <td>3</td>\n",
              "      <td>AbNormal</td>\n",
              "      <td>Yes</td>\n",
              "      <td>...</td>\n",
              "      <td>AllPub</td>\n",
              "      <td>Paved</td>\n",
              "      <td>A</td>\n",
              "      <td>4.0</td>\n",
              "      <td>3.9</td>\n",
              "      <td>4.9</td>\n",
              "      <td>4.330</td>\n",
              "      <td>380000</td>\n",
              "      <td>144400</td>\n",
              "      <td>7600000</td>\n",
              "    </tr>\n",
              "    <tr>\n",
              "      <th>1</th>\n",
              "      <td>P09411</td>\n",
              "      <td>Anna Nagar</td>\n",
              "      <td>1986</td>\n",
              "      <td>19-12-2006</td>\n",
              "      <td>26</td>\n",
              "      <td>2.0</td>\n",
              "      <td>1.0</td>\n",
              "      <td>5</td>\n",
              "      <td>AbNormal</td>\n",
              "      <td>No</td>\n",
              "      <td>...</td>\n",
              "      <td>AllPub</td>\n",
              "      <td>Gravel</td>\n",
              "      <td>RH</td>\n",
              "      <td>4.9</td>\n",
              "      <td>4.2</td>\n",
              "      <td>2.5</td>\n",
              "      <td>3.765</td>\n",
              "      <td>760122</td>\n",
              "      <td>304049</td>\n",
              "      <td>21717770</td>\n",
              "    </tr>\n",
              "    <tr>\n",
              "      <th>2</th>\n",
              "      <td>P01812</td>\n",
              "      <td>Adyar</td>\n",
              "      <td>909</td>\n",
              "      <td>04-02-2012</td>\n",
              "      <td>70</td>\n",
              "      <td>1.0</td>\n",
              "      <td>1.0</td>\n",
              "      <td>3</td>\n",
              "      <td>AbNormal</td>\n",
              "      <td>Yes</td>\n",
              "      <td>...</td>\n",
              "      <td>ELO</td>\n",
              "      <td>Gravel</td>\n",
              "      <td>RL</td>\n",
              "      <td>4.1</td>\n",
              "      <td>3.8</td>\n",
              "      <td>2.2</td>\n",
              "      <td>3.090</td>\n",
              "      <td>421094</td>\n",
              "      <td>92114</td>\n",
              "      <td>13159200</td>\n",
              "    </tr>\n",
              "    <tr>\n",
              "      <th>3</th>\n",
              "      <td>P05346</td>\n",
              "      <td>Velachery</td>\n",
              "      <td>1855</td>\n",
              "      <td>13-03-2010</td>\n",
              "      <td>14</td>\n",
              "      <td>3.0</td>\n",
              "      <td>2.0</td>\n",
              "      <td>5</td>\n",
              "      <td>Family</td>\n",
              "      <td>No</td>\n",
              "      <td>...</td>\n",
              "      <td>NoSewr</td>\n",
              "      <td>Paved</td>\n",
              "      <td>I</td>\n",
              "      <td>4.7</td>\n",
              "      <td>3.9</td>\n",
              "      <td>3.6</td>\n",
              "      <td>4.010</td>\n",
              "      <td>356321</td>\n",
              "      <td>77042</td>\n",
              "      <td>9630290</td>\n",
              "    </tr>\n",
              "    <tr>\n",
              "      <th>4</th>\n",
              "      <td>P06210</td>\n",
              "      <td>Karapakkam</td>\n",
              "      <td>1226</td>\n",
              "      <td>05-10-2009</td>\n",
              "      <td>84</td>\n",
              "      <td>1.0</td>\n",
              "      <td>1.0</td>\n",
              "      <td>3</td>\n",
              "      <td>AbNormal</td>\n",
              "      <td>Yes</td>\n",
              "      <td>...</td>\n",
              "      <td>AllPub</td>\n",
              "      <td>Gravel</td>\n",
              "      <td>C</td>\n",
              "      <td>3.0</td>\n",
              "      <td>2.5</td>\n",
              "      <td>4.1</td>\n",
              "      <td>3.290</td>\n",
              "      <td>237000</td>\n",
              "      <td>74063</td>\n",
              "      <td>7406250</td>\n",
              "    </tr>\n",
              "    <tr>\n",
              "      <th>...</th>\n",
              "      <td>...</td>\n",
              "      <td>...</td>\n",
              "      <td>...</td>\n",
              "      <td>...</td>\n",
              "      <td>...</td>\n",
              "      <td>...</td>\n",
              "      <td>...</td>\n",
              "      <td>...</td>\n",
              "      <td>...</td>\n",
              "      <td>...</td>\n",
              "      <td>...</td>\n",
              "      <td>...</td>\n",
              "      <td>...</td>\n",
              "      <td>...</td>\n",
              "      <td>...</td>\n",
              "      <td>...</td>\n",
              "      <td>...</td>\n",
              "      <td>...</td>\n",
              "      <td>...</td>\n",
              "      <td>...</td>\n",
              "      <td>...</td>\n",
              "    </tr>\n",
              "    <tr>\n",
              "      <th>7104</th>\n",
              "      <td>P03834</td>\n",
              "      <td>Karapakkam</td>\n",
              "      <td>598</td>\n",
              "      <td>03-01-2011</td>\n",
              "      <td>51</td>\n",
              "      <td>1.0</td>\n",
              "      <td>1.0</td>\n",
              "      <td>2</td>\n",
              "      <td>AdjLand</td>\n",
              "      <td>No</td>\n",
              "      <td>...</td>\n",
              "      <td>ELO</td>\n",
              "      <td>No Access</td>\n",
              "      <td>RM</td>\n",
              "      <td>3.0</td>\n",
              "      <td>2.2</td>\n",
              "      <td>2.4</td>\n",
              "      <td>2.520</td>\n",
              "      <td>208767</td>\n",
              "      <td>107060</td>\n",
              "      <td>5353000</td>\n",
              "    </tr>\n",
              "    <tr>\n",
              "      <th>7105</th>\n",
              "      <td>P10000</td>\n",
              "      <td>Velachery</td>\n",
              "      <td>1897</td>\n",
              "      <td>08-04-2004</td>\n",
              "      <td>52</td>\n",
              "      <td>3.0</td>\n",
              "      <td>2.0</td>\n",
              "      <td>5</td>\n",
              "      <td>Family</td>\n",
              "      <td>Yes</td>\n",
              "      <td>...</td>\n",
              "      <td>NoSeWa</td>\n",
              "      <td>No Access</td>\n",
              "      <td>RH</td>\n",
              "      <td>3.6</td>\n",
              "      <td>4.5</td>\n",
              "      <td>3.3</td>\n",
              "      <td>3.920</td>\n",
              "      <td>346191</td>\n",
              "      <td>205551</td>\n",
              "      <td>10818480</td>\n",
              "    </tr>\n",
              "    <tr>\n",
              "      <th>7106</th>\n",
              "      <td>P09594</td>\n",
              "      <td>Velachery</td>\n",
              "      <td>1614</td>\n",
              "      <td>25-08-2006</td>\n",
              "      <td>152</td>\n",
              "      <td>2.0</td>\n",
              "      <td>1.0</td>\n",
              "      <td>4</td>\n",
              "      <td>Normal Sale</td>\n",
              "      <td>No</td>\n",
              "      <td>...</td>\n",
              "      <td>NoSeWa</td>\n",
              "      <td>Gravel</td>\n",
              "      <td>I</td>\n",
              "      <td>4.3</td>\n",
              "      <td>4.2</td>\n",
              "      <td>2.9</td>\n",
              "      <td>3.840</td>\n",
              "      <td>317354</td>\n",
              "      <td>167028</td>\n",
              "      <td>8351410</td>\n",
              "    </tr>\n",
              "    <tr>\n",
              "      <th>7107</th>\n",
              "      <td>P06508</td>\n",
              "      <td>Karapakkam</td>\n",
              "      <td>787</td>\n",
              "      <td>03-08-2009</td>\n",
              "      <td>40</td>\n",
              "      <td>1.0</td>\n",
              "      <td>1.0</td>\n",
              "      <td>2</td>\n",
              "      <td>Partial</td>\n",
              "      <td>Yes</td>\n",
              "      <td>...</td>\n",
              "      <td>ELO</td>\n",
              "      <td>Paved</td>\n",
              "      <td>RL</td>\n",
              "      <td>4.6</td>\n",
              "      <td>3.8</td>\n",
              "      <td>4.1</td>\n",
              "      <td>4.160</td>\n",
              "      <td>425350</td>\n",
              "      <td>119098</td>\n",
              "      <td>8507000</td>\n",
              "    </tr>\n",
              "    <tr>\n",
              "      <th>7108</th>\n",
              "      <td>P09794</td>\n",
              "      <td>Velachery</td>\n",
              "      <td>1896</td>\n",
              "      <td>13-07-2005</td>\n",
              "      <td>156</td>\n",
              "      <td>3.0</td>\n",
              "      <td>2.0</td>\n",
              "      <td>5</td>\n",
              "      <td>Partial</td>\n",
              "      <td>Yes</td>\n",
              "      <td>...</td>\n",
              "      <td>ELO</td>\n",
              "      <td>Paved</td>\n",
              "      <td>I</td>\n",
              "      <td>3.1</td>\n",
              "      <td>3.5</td>\n",
              "      <td>4.3</td>\n",
              "      <td>3.640</td>\n",
              "      <td>349177</td>\n",
              "      <td>79812</td>\n",
              "      <td>9976480</td>\n",
              "    </tr>\n",
              "  </tbody>\n",
              "</table>\n",
              "<p>7109 rows × 22 columns</p>\n",
              "</div>\n",
              "      <button class=\"colab-df-convert\" onclick=\"convertToInteractive('df-402afd1f-ff16-4a3b-b57a-de3dd4ab5e85')\"\n",
              "              title=\"Convert this dataframe to an interactive table.\"\n",
              "              style=\"display:none;\">\n",
              "        \n",
              "  <svg xmlns=\"http://www.w3.org/2000/svg\" height=\"24px\"viewBox=\"0 0 24 24\"\n",
              "       width=\"24px\">\n",
              "    <path d=\"M0 0h24v24H0V0z\" fill=\"none\"/>\n",
              "    <path d=\"M18.56 5.44l.94 2.06.94-2.06 2.06-.94-2.06-.94-.94-2.06-.94 2.06-2.06.94zm-11 1L8.5 8.5l.94-2.06 2.06-.94-2.06-.94L8.5 2.5l-.94 2.06-2.06.94zm10 10l.94 2.06.94-2.06 2.06-.94-2.06-.94-.94-2.06-.94 2.06-2.06.94z\"/><path d=\"M17.41 7.96l-1.37-1.37c-.4-.4-.92-.59-1.43-.59-.52 0-1.04.2-1.43.59L10.3 9.45l-7.72 7.72c-.78.78-.78 2.05 0 2.83L4 21.41c.39.39.9.59 1.41.59.51 0 1.02-.2 1.41-.59l7.78-7.78 2.81-2.81c.8-.78.8-2.07 0-2.86zM5.41 20L4 18.59l7.72-7.72 1.47 1.35L5.41 20z\"/>\n",
              "  </svg>\n",
              "      </button>\n",
              "      \n",
              "  <style>\n",
              "    .colab-df-container {\n",
              "      display:flex;\n",
              "      flex-wrap:wrap;\n",
              "      gap: 12px;\n",
              "    }\n",
              "\n",
              "    .colab-df-convert {\n",
              "      background-color: #E8F0FE;\n",
              "      border: none;\n",
              "      border-radius: 50%;\n",
              "      cursor: pointer;\n",
              "      display: none;\n",
              "      fill: #1967D2;\n",
              "      height: 32px;\n",
              "      padding: 0 0 0 0;\n",
              "      width: 32px;\n",
              "    }\n",
              "\n",
              "    .colab-df-convert:hover {\n",
              "      background-color: #E2EBFA;\n",
              "      box-shadow: 0px 1px 2px rgba(60, 64, 67, 0.3), 0px 1px 3px 1px rgba(60, 64, 67, 0.15);\n",
              "      fill: #174EA6;\n",
              "    }\n",
              "\n",
              "    [theme=dark] .colab-df-convert {\n",
              "      background-color: #3B4455;\n",
              "      fill: #D2E3FC;\n",
              "    }\n",
              "\n",
              "    [theme=dark] .colab-df-convert:hover {\n",
              "      background-color: #434B5C;\n",
              "      box-shadow: 0px 1px 3px 1px rgba(0, 0, 0, 0.15);\n",
              "      filter: drop-shadow(0px 1px 2px rgba(0, 0, 0, 0.3));\n",
              "      fill: #FFFFFF;\n",
              "    }\n",
              "  </style>\n",
              "\n",
              "      <script>\n",
              "        const buttonEl =\n",
              "          document.querySelector('#df-402afd1f-ff16-4a3b-b57a-de3dd4ab5e85 button.colab-df-convert');\n",
              "        buttonEl.style.display =\n",
              "          google.colab.kernel.accessAllowed ? 'block' : 'none';\n",
              "\n",
              "        async function convertToInteractive(key) {\n",
              "          const element = document.querySelector('#df-402afd1f-ff16-4a3b-b57a-de3dd4ab5e85');\n",
              "          const dataTable =\n",
              "            await google.colab.kernel.invokeFunction('convertToInteractive',\n",
              "                                                     [key], {});\n",
              "          if (!dataTable) return;\n",
              "\n",
              "          const docLinkHtml = 'Like what you see? Visit the ' +\n",
              "            '<a target=\"_blank\" href=https://colab.research.google.com/notebooks/data_table.ipynb>data table notebook</a>'\n",
              "            + ' to learn more about interactive tables.';\n",
              "          element.innerHTML = '';\n",
              "          dataTable['output_type'] = 'display_data';\n",
              "          await google.colab.output.renderOutput(dataTable, element);\n",
              "          const docLink = document.createElement('div');\n",
              "          docLink.innerHTML = docLinkHtml;\n",
              "          element.appendChild(docLink);\n",
              "        }\n",
              "      </script>\n",
              "    </div>\n",
              "  </div>\n",
              "  "
            ]
          },
          "metadata": {},
          "execution_count": 1
        }
      ],
      "source": [
        "import pandas as pd\n",
        "import numpy as np\n",
        "daf=pd.read_csv(\"chennai.csv\")\n",
        "daf"
      ]
    },
    {
      "cell_type": "code",
      "source": [
        "daf.shape"
      ],
      "metadata": {
        "colab": {
          "base_uri": "https://localhost:8080/"
        },
        "id": "qY76d6gTdF_7",
        "outputId": "f2c4d30a-9a38-470a-d2d4-40e4839f56fc"
      },
      "execution_count": 2,
      "outputs": [
        {
          "output_type": "execute_result",
          "data": {
            "text/plain": [
              "(7109, 22)"
            ]
          },
          "metadata": {},
          "execution_count": 2
        }
      ]
    },
    {
      "cell_type": "code",
      "source": [
        "daf.isnull().sum()"
      ],
      "metadata": {
        "colab": {
          "base_uri": "https://localhost:8080/"
        },
        "id": "40jn8CA-apEw",
        "outputId": "bb6a6de4-bea5-41cc-9b5d-435498947979"
      },
      "execution_count": 3,
      "outputs": [
        {
          "output_type": "execute_result",
          "data": {
            "text/plain": [
              "PRT_ID            0\n",
              "AREA              0\n",
              "INT_SQFT          0\n",
              "DATE_SALE         0\n",
              "DIST_MAINROAD     0\n",
              "N_BEDROOM         1\n",
              "N_BATHROOM        5\n",
              "N_ROOM            0\n",
              "SALE_COND         0\n",
              "PARK_FACIL        0\n",
              "DATE_BUILD        0\n",
              "BUILDTYPE         0\n",
              "UTILITY_AVAIL     0\n",
              "STREET            0\n",
              "MZZONE            0\n",
              "QS_ROOMS          0\n",
              "QS_BATHROOM       0\n",
              "QS_BEDROOM        0\n",
              "QS_OVERALL       48\n",
              "REG_FEE           0\n",
              "COMMIS            0\n",
              "SALES_PRICE       0\n",
              "dtype: int64"
            ]
          },
          "metadata": {},
          "execution_count": 3
        }
      ]
    },
    {
      "cell_type": "code",
      "source": [
        "daf.dtypes"
      ],
      "metadata": {
        "colab": {
          "base_uri": "https://localhost:8080/"
        },
        "id": "ldP2_2QZfn8a",
        "outputId": "45eb2dcd-f54b-4ad4-a019-12000930eac8"
      },
      "execution_count": 4,
      "outputs": [
        {
          "output_type": "execute_result",
          "data": {
            "text/plain": [
              "PRT_ID            object\n",
              "AREA              object\n",
              "INT_SQFT           int64\n",
              "DATE_SALE         object\n",
              "DIST_MAINROAD      int64\n",
              "N_BEDROOM        float64\n",
              "N_BATHROOM       float64\n",
              "N_ROOM             int64\n",
              "SALE_COND         object\n",
              "PARK_FACIL        object\n",
              "DATE_BUILD        object\n",
              "BUILDTYPE         object\n",
              "UTILITY_AVAIL     object\n",
              "STREET            object\n",
              "MZZONE            object\n",
              "QS_ROOMS         float64\n",
              "QS_BATHROOM      float64\n",
              "QS_BEDROOM       float64\n",
              "QS_OVERALL       float64\n",
              "REG_FEE            int64\n",
              "COMMIS             int64\n",
              "SALES_PRICE        int64\n",
              "dtype: object"
            ]
          },
          "metadata": {},
          "execution_count": 4
        }
      ]
    },
    {
      "cell_type": "markdown",
      "source": [
        "##**AREA column**"
      ],
      "metadata": {
        "id": "0GBJoHbnLuUQ"
      }
    },
    {
      "cell_type": "code",
      "source": [
        "daf[\"AREA\"].unique()"
      ],
      "metadata": {
        "colab": {
          "base_uri": "https://localhost:8080/"
        },
        "id": "gjTrgqvdM1pH",
        "outputId": "90b761ab-80c7-43a2-8cff-2d2a664fda21"
      },
      "execution_count": 5,
      "outputs": [
        {
          "output_type": "execute_result",
          "data": {
            "text/plain": [
              "array(['Karapakkam', 'Anna Nagar', 'Adyar', 'Velachery', 'Chrompet',\n",
              "       'KK Nagar', 'TNagar', 'T Nagar', 'Chrompt', 'Chrmpet', 'Karapakam',\n",
              "       'Ana Nagar', 'Chormpet', 'Adyr', 'Velchery', 'Ann Nagar',\n",
              "       'KKNagar'], dtype=object)"
            ]
          },
          "metadata": {},
          "execution_count": 5
        }
      ]
    },
    {
      "cell_type": "code",
      "source": [
        "# different spelling \n",
        "# 'Karapakkam','Karapakam'\n",
        "# 'Anna Nagar','Ana Nagar','Ann Nagar'\n",
        "# 'Adyar','Adyr'\n",
        "# 'Velachery','Velchery'\n",
        "# 'Chrompet','Chrompt','Chrmpet','Chormpet'\n",
        "# 'KK Nagar','KKNagar'\n",
        "# 'TNagar','T Nagar'"
      ],
      "metadata": {
        "id": "o0Qa1lK-N94I"
      },
      "execution_count": 6,
      "outputs": []
    },
    {
      "cell_type": "code",
      "source": [
        "# Changing the spelling \n",
        "daf[\"AREA\"] = daf[\"AREA\"].replace('Karapakam','Karapakkam')\n",
        "daf[\"AREA\"] = daf[\"AREA\"].replace(['Anna Nagar','Ana Nagar','Ann Nagar'],'AnnaNagar')\n",
        "daf[\"AREA\"] = daf[\"AREA\"].replace('Adyr','Adyar')\n",
        "daf[\"AREA\"] = daf[\"AREA\"].replace('Velchery','Velachery')\n",
        "daf[\"AREA\"] = daf[\"AREA\"].replace(['Chrompet','Chrompt','Chrmpet','Chormpet'],'Chromepet')\n",
        "daf[\"AREA\"] = daf[\"AREA\"].replace('KK Nagar','KKNagar')\n",
        "daf[\"AREA\"] = daf[\"AREA\"].replace('T Nagar','TNagar')"
      ],
      "metadata": {
        "id": "KfOuGZFFY7KB"
      },
      "execution_count": 7,
      "outputs": []
    },
    {
      "cell_type": "code",
      "source": [
        "daf[\"AREA\"].unique()"
      ],
      "metadata": {
        "colab": {
          "base_uri": "https://localhost:8080/"
        },
        "id": "DWEYUxTuZbta",
        "outputId": "bc716f6f-2b21-4875-d087-0943991de106"
      },
      "execution_count": 8,
      "outputs": [
        {
          "output_type": "execute_result",
          "data": {
            "text/plain": [
              "array(['Karapakkam', 'AnnaNagar', 'Adyar', 'Velachery', 'Chromepet',\n",
              "       'KKNagar', 'TNagar'], dtype=object)"
            ]
          },
          "metadata": {},
          "execution_count": 8
        }
      ]
    },
    {
      "cell_type": "markdown",
      "source": [
        "##**SAL_COND**"
      ],
      "metadata": {
        "id": "mxVvDRrIMc-t"
      }
    },
    {
      "cell_type": "code",
      "source": [
        "daf[\"SALE_COND\"].unique()"
      ],
      "metadata": {
        "colab": {
          "base_uri": "https://localhost:8080/"
        },
        "id": "ZTGqzs5Jc5ZJ",
        "outputId": "e91069da-ed80-49fa-bde9-d8e1b5e2e9f3"
      },
      "execution_count": 9,
      "outputs": [
        {
          "output_type": "execute_result",
          "data": {
            "text/plain": [
              "array(['AbNormal', 'Family', 'Partial', 'AdjLand', 'Normal Sale',\n",
              "       'Ab Normal', 'Partiall', 'Adj Land', 'PartiaLl'], dtype=object)"
            ]
          },
          "metadata": {},
          "execution_count": 9
        }
      ]
    },
    {
      "cell_type": "code",
      "source": [
        "daf[\"SALE_COND\"] = daf[\"SALE_COND\"].replace(['AbNormal','Ab Normal'],'abnormal')\n",
        "daf[\"SALE_COND\"] = daf[\"SALE_COND\"].replace(['AdjLand','Adj Land'],'adjland')\n",
        "daf[\"SALE_COND\"] = daf[\"SALE_COND\"].replace(['PartiaLl','Partiall'],'Partial')"
      ],
      "metadata": {
        "id": "vQYmyQTBjn2g"
      },
      "execution_count": 10,
      "outputs": []
    },
    {
      "cell_type": "code",
      "source": [
        "daf[\"SALE_COND\"].unique()"
      ],
      "metadata": {
        "colab": {
          "base_uri": "https://localhost:8080/"
        },
        "id": "iTjWh2VukZWg",
        "outputId": "249a5f31-5988-460b-f8cb-22dc7544937d"
      },
      "execution_count": 11,
      "outputs": [
        {
          "output_type": "execute_result",
          "data": {
            "text/plain": [
              "array(['abnormal', 'Family', 'Partial', 'adjland', 'Normal Sale'],\n",
              "      dtype=object)"
            ]
          },
          "metadata": {},
          "execution_count": 11
        }
      ]
    },
    {
      "cell_type": "markdown",
      "source": [
        "##**PARK_FACIL**"
      ],
      "metadata": {
        "id": "7fiLB3S1M5g9"
      }
    },
    {
      "cell_type": "code",
      "source": [
        "daf[\"PARK_FACIL\"].unique()"
      ],
      "metadata": {
        "colab": {
          "base_uri": "https://localhost:8080/"
        },
        "id": "pbAVhkjlgcSj",
        "outputId": "7c7fe1ab-d4a6-41da-d31c-1faa292dee12"
      },
      "execution_count": 12,
      "outputs": [
        {
          "output_type": "execute_result",
          "data": {
            "text/plain": [
              "array(['Yes', 'No', 'Noo'], dtype=object)"
            ]
          },
          "metadata": {},
          "execution_count": 12
        }
      ]
    },
    {
      "cell_type": "code",
      "source": [
        "daf[\"PARK_FACIL\"] = daf[\"PARK_FACIL\"].replace(['Yes'],'yes')\n",
        "daf[\"PARK_FACIL\"] = daf[\"PARK_FACIL\"].replace(['No', 'Noo'],'no')"
      ],
      "metadata": {
        "id": "yFRvP_txhlvw"
      },
      "execution_count": 13,
      "outputs": []
    },
    {
      "cell_type": "code",
      "source": [
        "daf[\"PARK_FACIL\"].unique()"
      ],
      "metadata": {
        "colab": {
          "base_uri": "https://localhost:8080/"
        },
        "id": "dQy26q6JiWVW",
        "outputId": "3e3f0800-484a-4b1d-f697-3ae0e400ca8b"
      },
      "execution_count": 14,
      "outputs": [
        {
          "output_type": "execute_result",
          "data": {
            "text/plain": [
              "array(['yes', 'no'], dtype=object)"
            ]
          },
          "metadata": {},
          "execution_count": 14
        }
      ]
    },
    {
      "cell_type": "markdown",
      "source": [
        "##**BUILDTYPE**"
      ],
      "metadata": {
        "id": "5hRJZEuvNJPW"
      }
    },
    {
      "cell_type": "code",
      "source": [
        "daf[\"BUILDTYPE\"].unique()"
      ],
      "metadata": {
        "colab": {
          "base_uri": "https://localhost:8080/"
        },
        "id": "ENexo4Hmgraw",
        "outputId": "cdf39a29-ddb5-4398-c61e-3253f658c83e"
      },
      "execution_count": 15,
      "outputs": [
        {
          "output_type": "execute_result",
          "data": {
            "text/plain": [
              "array(['Commercial', 'Others', 'Other', 'House', 'Comercial'],\n",
              "      dtype=object)"
            ]
          },
          "metadata": {},
          "execution_count": 15
        }
      ]
    },
    {
      "cell_type": "code",
      "source": [
        "daf[\"BUILDTYPE\"] = daf[\"BUILDTYPE\"].replace(['Commercial','Comercial'],'commercial')\n",
        "daf[\"BUILDTYPE\"] = daf[\"BUILDTYPE\"].replace(['Other','Others'],'others')"
      ],
      "metadata": {
        "id": "1zWKNjRZfgXn"
      },
      "execution_count": 16,
      "outputs": []
    },
    {
      "cell_type": "code",
      "source": [
        "daf[\"BUILDTYPE\"].unique()"
      ],
      "metadata": {
        "colab": {
          "base_uri": "https://localhost:8080/"
        },
        "id": "WESO1MATiSHn",
        "outputId": "c7ff71ee-7264-471d-e713-f82abc7c0fba"
      },
      "execution_count": 17,
      "outputs": [
        {
          "output_type": "execute_result",
          "data": {
            "text/plain": [
              "array(['commercial', 'others', 'House'], dtype=object)"
            ]
          },
          "metadata": {},
          "execution_count": 17
        }
      ]
    },
    {
      "cell_type": "markdown",
      "source": [
        "##**UTILITY_AVAIL**"
      ],
      "metadata": {
        "id": "CH8RjRnsNPyV"
      }
    },
    {
      "cell_type": "code",
      "source": [
        "daf[\"UTILITY_AVAIL\"].unique()"
      ],
      "metadata": {
        "colab": {
          "base_uri": "https://localhost:8080/"
        },
        "id": "W2wGVbAKgzaw",
        "outputId": "e0791d39-d26a-412c-8f43-30a0577d9c7f"
      },
      "execution_count": 18,
      "outputs": [
        {
          "output_type": "execute_result",
          "data": {
            "text/plain": [
              "array(['AllPub', 'ELO', 'NoSewr ', 'NoSeWa', 'All Pub'], dtype=object)"
            ]
          },
          "metadata": {},
          "execution_count": 18
        }
      ]
    },
    {
      "cell_type": "code",
      "source": [
        "daf[\"UTILITY_AVAIL\"] = daf[\"UTILITY_AVAIL\"].replace(['AllPub','All Pub'],'allpublic')"
      ],
      "metadata": {
        "id": "JAu2uotEglOX"
      },
      "execution_count": 19,
      "outputs": []
    },
    {
      "cell_type": "code",
      "source": [
        "daf[\"UTILITY_AVAIL\"].unique()"
      ],
      "metadata": {
        "colab": {
          "base_uri": "https://localhost:8080/"
        },
        "id": "ZMezjpBJiOpO",
        "outputId": "9a216e18-2acc-44d7-f5d4-69c70861f410"
      },
      "execution_count": 20,
      "outputs": [
        {
          "output_type": "execute_result",
          "data": {
            "text/plain": [
              "array(['allpublic', 'ELO', 'NoSewr ', 'NoSeWa'], dtype=object)"
            ]
          },
          "metadata": {},
          "execution_count": 20
        }
      ]
    },
    {
      "cell_type": "markdown",
      "source": [
        "##**STREET**"
      ],
      "metadata": {
        "id": "sWzORgfINjQd"
      }
    },
    {
      "cell_type": "code",
      "source": [
        "daf[\"STREET\"].unique()"
      ],
      "metadata": {
        "colab": {
          "base_uri": "https://localhost:8080/"
        },
        "id": "_uox4jI4g9ig",
        "outputId": "b836659c-2228-4526-e66b-c7808a92ea8d"
      },
      "execution_count": 21,
      "outputs": [
        {
          "output_type": "execute_result",
          "data": {
            "text/plain": [
              "array(['Paved', 'Gravel', 'No Access', 'Pavd', 'NoAccess'], dtype=object)"
            ]
          },
          "metadata": {},
          "execution_count": 21
        }
      ]
    },
    {
      "cell_type": "code",
      "source": [
        "daf[\"STREET\"] = daf[\"STREET\"].replace(['Paved','Pavd'],'paved')\n",
        "daf[\"STREET\"] = daf[\"STREET\"].replace(['No Access','NoAccess'],'noaccess')"
      ],
      "metadata": {
        "id": "Aws8H_8ShIRX"
      },
      "execution_count": 22,
      "outputs": []
    },
    {
      "cell_type": "code",
      "source": [
        "daf[\"STREET\"].unique()"
      ],
      "metadata": {
        "colab": {
          "base_uri": "https://localhost:8080/"
        },
        "id": "TOanEeaDiKLn",
        "outputId": "65629491-f59f-46f7-df87-34aefa95a1ee"
      },
      "execution_count": 23,
      "outputs": [
        {
          "output_type": "execute_result",
          "data": {
            "text/plain": [
              "array(['paved', 'Gravel', 'noaccess'], dtype=object)"
            ]
          },
          "metadata": {},
          "execution_count": 23
        }
      ]
    },
    {
      "cell_type": "markdown",
      "source": [
        "##**MZZONE**"
      ],
      "metadata": {
        "id": "94s21iZ1NpyP"
      }
    },
    {
      "cell_type": "code",
      "source": [
        "daf[\"MZZONE\"].unique()"
      ],
      "metadata": {
        "colab": {
          "base_uri": "https://localhost:8080/"
        },
        "id": "573XEFkDhDbx",
        "outputId": "9fa2017e-8708-42be-989b-96c3ff987bab"
      },
      "execution_count": 24,
      "outputs": [
        {
          "output_type": "execute_result",
          "data": {
            "text/plain": [
              "array(['A', 'RH', 'RL', 'I', 'C', 'RM'], dtype=object)"
            ]
          },
          "metadata": {},
          "execution_count": 24
        }
      ]
    },
    {
      "cell_type": "markdown",
      "source": [
        "##**qs_rooms,bathroom,bedroom**"
      ],
      "metadata": {
        "id": "K_Z1Bio8N1nG"
      }
    },
    {
      "cell_type": "code",
      "source": [
        "daf[\"QS_ROOMS\"].unique()"
      ],
      "metadata": {
        "colab": {
          "base_uri": "https://localhost:8080/"
        },
        "id": "v68cKEQ6hdu1",
        "outputId": "1d05dc43-4105-4b0d-e70f-5a13ebd065f2"
      },
      "execution_count": 25,
      "outputs": [
        {
          "output_type": "execute_result",
          "data": {
            "text/plain": [
              "array([4. , 4.9, 4.1, 4.7, 3. , 4.5, 3.6, 2.4, 2.9, 3.1, 2.2, 2.1, 4.8,\n",
              "       3.8, 2.3, 3.5, 4.6, 2.8, 4.2, 3.4, 2.7, 2. , 4.3, 3.9, 2.6, 3.3,\n",
              "       2.5, 3.7, 3.2, 4.4, 5. ])"
            ]
          },
          "metadata": {},
          "execution_count": 25
        }
      ]
    },
    {
      "cell_type": "code",
      "source": [
        "daf[\"QS_BATHROOM\"].unique()"
      ],
      "metadata": {
        "colab": {
          "base_uri": "https://localhost:8080/"
        },
        "id": "jar_gvHDhi34",
        "outputId": "c988fd73-f782-4b46-bc9d-19429169d144"
      },
      "execution_count": 26,
      "outputs": [
        {
          "output_type": "execute_result",
          "data": {
            "text/plain": [
              "array([3.9, 4.2, 3.8, 2.5, 2.6, 2.1, 4.5, 3.7, 3.1, 3.2, 3.4, 2.2, 4.6,\n",
              "       4.9, 2.7, 4.4, 5. , 2.8, 3. , 2.9, 3.6, 4. , 4.3, 2. , 3.3, 4.7,\n",
              "       2.3, 4.1, 4.8, 3.5, 2.4])"
            ]
          },
          "metadata": {},
          "execution_count": 26
        }
      ]
    },
    {
      "cell_type": "code",
      "source": [
        "daf[\"QS_BEDROOM\"].unique()"
      ],
      "metadata": {
        "colab": {
          "base_uri": "https://localhost:8080/"
        },
        "id": "nn8wWw_ThkQq",
        "outputId": "61706770-1f12-4744-e25c-5f3e9c40499d"
      },
      "execution_count": 27,
      "outputs": [
        {
          "output_type": "execute_result",
          "data": {
            "text/plain": [
              "array([4.9, 2.5, 2.2, 3.6, 4.1, 3.1, 2.1, 4. , 3.3, 4.5, 3.7, 4.8, 4.7,\n",
              "       2.9, 3.4, 2.8, 3.8, 3. , 3.2, 2. , 4.3, 3.9, 3.5, 2.6, 4.4, 2.4,\n",
              "       4.6, 5. , 2.3, 2.7, 4.2])"
            ]
          },
          "metadata": {},
          "execution_count": 27
        }
      ]
    },
    {
      "cell_type": "markdown",
      "source": [
        "##**N_BATHROOM**"
      ],
      "metadata": {
        "id": "IAfmmtDQOQWH"
      }
    },
    {
      "cell_type": "code",
      "source": [
        "daf['N_BATHROOM'] = daf['N_BATHROOM'].fillna(daf['N_BATHROOM'].mode()[0])"
      ],
      "metadata": {
        "id": "dLYMVw-VUB6w"
      },
      "execution_count": 28,
      "outputs": []
    },
    {
      "cell_type": "code",
      "source": [
        "daf['N_BATHROOM'] = daf['N_BATHROOM'].astype(\"int64\")"
      ],
      "metadata": {
        "id": "i4fIDzDydh_s"
      },
      "execution_count": 29,
      "outputs": []
    },
    {
      "cell_type": "code",
      "source": [
        "daf[\"N_BATHROOM\"].unique()"
      ],
      "metadata": {
        "id": "-YEbhGqJeYU7",
        "colab": {
          "base_uri": "https://localhost:8080/"
        },
        "outputId": "6b29cea8-e324-4e88-f586-3c58b8163674"
      },
      "execution_count": 30,
      "outputs": [
        {
          "output_type": "execute_result",
          "data": {
            "text/plain": [
              "array([1, 2])"
            ]
          },
          "metadata": {},
          "execution_count": 30
        }
      ]
    },
    {
      "cell_type": "markdown",
      "source": [
        "##**N_BEDROOM**"
      ],
      "metadata": {
        "id": "4f2kqpC6Ogel"
      }
    },
    {
      "cell_type": "code",
      "source": [
        "daf['N_BEDROOM'] = daf['N_BEDROOM'].fillna(daf['N_BEDROOM'].mode()[0])"
      ],
      "metadata": {
        "id": "C9XfVuJNUv45"
      },
      "execution_count": 31,
      "outputs": []
    },
    {
      "cell_type": "code",
      "source": [
        "daf['N_BEDROOM'] = daf['N_BEDROOM'].astype(int)"
      ],
      "metadata": {
        "id": "tAryl3_Oem6m"
      },
      "execution_count": 32,
      "outputs": []
    },
    {
      "cell_type": "code",
      "source": [
        "daf[\"N_BEDROOM\"].unique()"
      ],
      "metadata": {
        "id": "sG38ETlteuze",
        "colab": {
          "base_uri": "https://localhost:8080/"
        },
        "outputId": "efca24db-b971-48fd-a8ad-ff157423a671"
      },
      "execution_count": 33,
      "outputs": [
        {
          "output_type": "execute_result",
          "data": {
            "text/plain": [
              "array([1, 2, 3, 4])"
            ]
          },
          "metadata": {},
          "execution_count": 33
        }
      ]
    },
    {
      "cell_type": "markdown",
      "source": [
        "##**QS_OVERALL**"
      ],
      "metadata": {
        "id": "Xidve22aO-Up"
      }
    },
    {
      "cell_type": "code",
      "source": [
        "daf=daf.fillna(daf['QS_OVERALL'].mean())"
      ],
      "metadata": {
        "id": "03o8dQeTWjvv"
      },
      "execution_count": 34,
      "outputs": []
    },
    {
      "cell_type": "code",
      "source": [
        "daf.dtypes"
      ],
      "metadata": {
        "id": "ZMBYDFiie6uj",
        "colab": {
          "base_uri": "https://localhost:8080/"
        },
        "outputId": "201554a4-2193-4470-b454-f0a1b8195447"
      },
      "execution_count": 35,
      "outputs": [
        {
          "output_type": "execute_result",
          "data": {
            "text/plain": [
              "PRT_ID            object\n",
              "AREA              object\n",
              "INT_SQFT           int64\n",
              "DATE_SALE         object\n",
              "DIST_MAINROAD      int64\n",
              "N_BEDROOM          int64\n",
              "N_BATHROOM         int64\n",
              "N_ROOM             int64\n",
              "SALE_COND         object\n",
              "PARK_FACIL        object\n",
              "DATE_BUILD        object\n",
              "BUILDTYPE         object\n",
              "UTILITY_AVAIL     object\n",
              "STREET            object\n",
              "MZZONE            object\n",
              "QS_ROOMS         float64\n",
              "QS_BATHROOM      float64\n",
              "QS_BEDROOM       float64\n",
              "QS_OVERALL       float64\n",
              "REG_FEE            int64\n",
              "COMMIS             int64\n",
              "SALES_PRICE        int64\n",
              "dtype: object"
            ]
          },
          "metadata": {},
          "execution_count": 35
        }
      ]
    },
    {
      "cell_type": "code",
      "source": [
        "daf.DATE_BUILD = pd.to_datetime (daf.DATE_BUILD)\n",
        "daf.DATE_SALE = pd.to_datetime (daf.DATE_SALE)"
      ],
      "metadata": {
        "id": "v4oO3GaqhV6d"
      },
      "execution_count": 36,
      "outputs": []
    },
    {
      "cell_type": "code",
      "source": [
        "daf.DATE_BUILD = daf.DATE_BUILD.dt.year \n",
        "daf.DATE_SALE = daf.DATE_SALE.dt.year"
      ],
      "metadata": {
        "id": "FgKaLEk9j105"
      },
      "execution_count": 37,
      "outputs": []
    },
    {
      "cell_type": "code",
      "source": [
        "daf[\"Age_of_building\"]=daf.DATE_SALE-daf.DATE_BUILD"
      ],
      "metadata": {
        "id": "UB71lWnZj3Fw"
      },
      "execution_count": 38,
      "outputs": []
    },
    {
      "cell_type": "code",
      "source": [
        "daf =daf.drop(columns= ['DATE_BUILD', 'DATE_SALE','PRT_ID','REG_FEE','COMMIS'])"
      ],
      "metadata": {
        "id": "7Vdzqyh6j30N"
      },
      "execution_count": 39,
      "outputs": []
    },
    {
      "cell_type": "code",
      "source": [
        "daf.head()"
      ],
      "metadata": {
        "id": "ajvAEDWoj3vC",
        "colab": {
          "base_uri": "https://localhost:8080/",
          "height": 270
        },
        "outputId": "da694cc0-ce68-4c5a-e624-7adfcb4a2dec"
      },
      "execution_count": 40,
      "outputs": [
        {
          "output_type": "execute_result",
          "data": {
            "text/plain": [
              "         AREA  INT_SQFT  DIST_MAINROAD  N_BEDROOM  N_BATHROOM  N_ROOM  \\\n",
              "0  Karapakkam      1004            131          1           1       3   \n",
              "1   AnnaNagar      1986             26          2           1       5   \n",
              "2       Adyar       909             70          1           1       3   \n",
              "3   Velachery      1855             14          3           2       5   \n",
              "4  Karapakkam      1226             84          1           1       3   \n",
              "\n",
              "  SALE_COND PARK_FACIL   BUILDTYPE UTILITY_AVAIL  STREET MZZONE  QS_ROOMS  \\\n",
              "0  abnormal        yes  commercial     allpublic   paved      A       4.0   \n",
              "1  abnormal         no  commercial     allpublic  Gravel     RH       4.9   \n",
              "2  abnormal        yes  commercial           ELO  Gravel     RL       4.1   \n",
              "3    Family         no      others       NoSewr    paved      I       4.7   \n",
              "4  abnormal        yes      others     allpublic  Gravel      C       3.0   \n",
              "\n",
              "   QS_BATHROOM  QS_BEDROOM  QS_OVERALL  SALES_PRICE  Age_of_building  \n",
              "0          3.9         4.9       4.330      7600000               44  \n",
              "1          4.2         2.5       3.765     21717770               11  \n",
              "2          3.8         2.2       3.090     13159200               20  \n",
              "3          3.9         3.6       4.010      9630290               22  \n",
              "4          2.5         4.1       3.290      7406250               30  "
            ],
            "text/html": [
              "\n",
              "  <div id=\"df-94673b3d-7472-4666-bdaa-2127f251cd4e\">\n",
              "    <div class=\"colab-df-container\">\n",
              "      <div>\n",
              "<style scoped>\n",
              "    .dataframe tbody tr th:only-of-type {\n",
              "        vertical-align: middle;\n",
              "    }\n",
              "\n",
              "    .dataframe tbody tr th {\n",
              "        vertical-align: top;\n",
              "    }\n",
              "\n",
              "    .dataframe thead th {\n",
              "        text-align: right;\n",
              "    }\n",
              "</style>\n",
              "<table border=\"1\" class=\"dataframe\">\n",
              "  <thead>\n",
              "    <tr style=\"text-align: right;\">\n",
              "      <th></th>\n",
              "      <th>AREA</th>\n",
              "      <th>INT_SQFT</th>\n",
              "      <th>DIST_MAINROAD</th>\n",
              "      <th>N_BEDROOM</th>\n",
              "      <th>N_BATHROOM</th>\n",
              "      <th>N_ROOM</th>\n",
              "      <th>SALE_COND</th>\n",
              "      <th>PARK_FACIL</th>\n",
              "      <th>BUILDTYPE</th>\n",
              "      <th>UTILITY_AVAIL</th>\n",
              "      <th>STREET</th>\n",
              "      <th>MZZONE</th>\n",
              "      <th>QS_ROOMS</th>\n",
              "      <th>QS_BATHROOM</th>\n",
              "      <th>QS_BEDROOM</th>\n",
              "      <th>QS_OVERALL</th>\n",
              "      <th>SALES_PRICE</th>\n",
              "      <th>Age_of_building</th>\n",
              "    </tr>\n",
              "  </thead>\n",
              "  <tbody>\n",
              "    <tr>\n",
              "      <th>0</th>\n",
              "      <td>Karapakkam</td>\n",
              "      <td>1004</td>\n",
              "      <td>131</td>\n",
              "      <td>1</td>\n",
              "      <td>1</td>\n",
              "      <td>3</td>\n",
              "      <td>abnormal</td>\n",
              "      <td>yes</td>\n",
              "      <td>commercial</td>\n",
              "      <td>allpublic</td>\n",
              "      <td>paved</td>\n",
              "      <td>A</td>\n",
              "      <td>4.0</td>\n",
              "      <td>3.9</td>\n",
              "      <td>4.9</td>\n",
              "      <td>4.330</td>\n",
              "      <td>7600000</td>\n",
              "      <td>44</td>\n",
              "    </tr>\n",
              "    <tr>\n",
              "      <th>1</th>\n",
              "      <td>AnnaNagar</td>\n",
              "      <td>1986</td>\n",
              "      <td>26</td>\n",
              "      <td>2</td>\n",
              "      <td>1</td>\n",
              "      <td>5</td>\n",
              "      <td>abnormal</td>\n",
              "      <td>no</td>\n",
              "      <td>commercial</td>\n",
              "      <td>allpublic</td>\n",
              "      <td>Gravel</td>\n",
              "      <td>RH</td>\n",
              "      <td>4.9</td>\n",
              "      <td>4.2</td>\n",
              "      <td>2.5</td>\n",
              "      <td>3.765</td>\n",
              "      <td>21717770</td>\n",
              "      <td>11</td>\n",
              "    </tr>\n",
              "    <tr>\n",
              "      <th>2</th>\n",
              "      <td>Adyar</td>\n",
              "      <td>909</td>\n",
              "      <td>70</td>\n",
              "      <td>1</td>\n",
              "      <td>1</td>\n",
              "      <td>3</td>\n",
              "      <td>abnormal</td>\n",
              "      <td>yes</td>\n",
              "      <td>commercial</td>\n",
              "      <td>ELO</td>\n",
              "      <td>Gravel</td>\n",
              "      <td>RL</td>\n",
              "      <td>4.1</td>\n",
              "      <td>3.8</td>\n",
              "      <td>2.2</td>\n",
              "      <td>3.090</td>\n",
              "      <td>13159200</td>\n",
              "      <td>20</td>\n",
              "    </tr>\n",
              "    <tr>\n",
              "      <th>3</th>\n",
              "      <td>Velachery</td>\n",
              "      <td>1855</td>\n",
              "      <td>14</td>\n",
              "      <td>3</td>\n",
              "      <td>2</td>\n",
              "      <td>5</td>\n",
              "      <td>Family</td>\n",
              "      <td>no</td>\n",
              "      <td>others</td>\n",
              "      <td>NoSewr</td>\n",
              "      <td>paved</td>\n",
              "      <td>I</td>\n",
              "      <td>4.7</td>\n",
              "      <td>3.9</td>\n",
              "      <td>3.6</td>\n",
              "      <td>4.010</td>\n",
              "      <td>9630290</td>\n",
              "      <td>22</td>\n",
              "    </tr>\n",
              "    <tr>\n",
              "      <th>4</th>\n",
              "      <td>Karapakkam</td>\n",
              "      <td>1226</td>\n",
              "      <td>84</td>\n",
              "      <td>1</td>\n",
              "      <td>1</td>\n",
              "      <td>3</td>\n",
              "      <td>abnormal</td>\n",
              "      <td>yes</td>\n",
              "      <td>others</td>\n",
              "      <td>allpublic</td>\n",
              "      <td>Gravel</td>\n",
              "      <td>C</td>\n",
              "      <td>3.0</td>\n",
              "      <td>2.5</td>\n",
              "      <td>4.1</td>\n",
              "      <td>3.290</td>\n",
              "      <td>7406250</td>\n",
              "      <td>30</td>\n",
              "    </tr>\n",
              "  </tbody>\n",
              "</table>\n",
              "</div>\n",
              "      <button class=\"colab-df-convert\" onclick=\"convertToInteractive('df-94673b3d-7472-4666-bdaa-2127f251cd4e')\"\n",
              "              title=\"Convert this dataframe to an interactive table.\"\n",
              "              style=\"display:none;\">\n",
              "        \n",
              "  <svg xmlns=\"http://www.w3.org/2000/svg\" height=\"24px\"viewBox=\"0 0 24 24\"\n",
              "       width=\"24px\">\n",
              "    <path d=\"M0 0h24v24H0V0z\" fill=\"none\"/>\n",
              "    <path d=\"M18.56 5.44l.94 2.06.94-2.06 2.06-.94-2.06-.94-.94-2.06-.94 2.06-2.06.94zm-11 1L8.5 8.5l.94-2.06 2.06-.94-2.06-.94L8.5 2.5l-.94 2.06-2.06.94zm10 10l.94 2.06.94-2.06 2.06-.94-2.06-.94-.94-2.06-.94 2.06-2.06.94z\"/><path d=\"M17.41 7.96l-1.37-1.37c-.4-.4-.92-.59-1.43-.59-.52 0-1.04.2-1.43.59L10.3 9.45l-7.72 7.72c-.78.78-.78 2.05 0 2.83L4 21.41c.39.39.9.59 1.41.59.51 0 1.02-.2 1.41-.59l7.78-7.78 2.81-2.81c.8-.78.8-2.07 0-2.86zM5.41 20L4 18.59l7.72-7.72 1.47 1.35L5.41 20z\"/>\n",
              "  </svg>\n",
              "      </button>\n",
              "      \n",
              "  <style>\n",
              "    .colab-df-container {\n",
              "      display:flex;\n",
              "      flex-wrap:wrap;\n",
              "      gap: 12px;\n",
              "    }\n",
              "\n",
              "    .colab-df-convert {\n",
              "      background-color: #E8F0FE;\n",
              "      border: none;\n",
              "      border-radius: 50%;\n",
              "      cursor: pointer;\n",
              "      display: none;\n",
              "      fill: #1967D2;\n",
              "      height: 32px;\n",
              "      padding: 0 0 0 0;\n",
              "      width: 32px;\n",
              "    }\n",
              "\n",
              "    .colab-df-convert:hover {\n",
              "      background-color: #E2EBFA;\n",
              "      box-shadow: 0px 1px 2px rgba(60, 64, 67, 0.3), 0px 1px 3px 1px rgba(60, 64, 67, 0.15);\n",
              "      fill: #174EA6;\n",
              "    }\n",
              "\n",
              "    [theme=dark] .colab-df-convert {\n",
              "      background-color: #3B4455;\n",
              "      fill: #D2E3FC;\n",
              "    }\n",
              "\n",
              "    [theme=dark] .colab-df-convert:hover {\n",
              "      background-color: #434B5C;\n",
              "      box-shadow: 0px 1px 3px 1px rgba(0, 0, 0, 0.15);\n",
              "      filter: drop-shadow(0px 1px 2px rgba(0, 0, 0, 0.3));\n",
              "      fill: #FFFFFF;\n",
              "    }\n",
              "  </style>\n",
              "\n",
              "      <script>\n",
              "        const buttonEl =\n",
              "          document.querySelector('#df-94673b3d-7472-4666-bdaa-2127f251cd4e button.colab-df-convert');\n",
              "        buttonEl.style.display =\n",
              "          google.colab.kernel.accessAllowed ? 'block' : 'none';\n",
              "\n",
              "        async function convertToInteractive(key) {\n",
              "          const element = document.querySelector('#df-94673b3d-7472-4666-bdaa-2127f251cd4e');\n",
              "          const dataTable =\n",
              "            await google.colab.kernel.invokeFunction('convertToInteractive',\n",
              "                                                     [key], {});\n",
              "          if (!dataTable) return;\n",
              "\n",
              "          const docLinkHtml = 'Like what you see? Visit the ' +\n",
              "            '<a target=\"_blank\" href=https://colab.research.google.com/notebooks/data_table.ipynb>data table notebook</a>'\n",
              "            + ' to learn more about interactive tables.';\n",
              "          element.innerHTML = '';\n",
              "          dataTable['output_type'] = 'display_data';\n",
              "          await google.colab.output.renderOutput(dataTable, element);\n",
              "          const docLink = document.createElement('div');\n",
              "          docLink.innerHTML = docLinkHtml;\n",
              "          element.appendChild(docLink);\n",
              "        }\n",
              "      </script>\n",
              "    </div>\n",
              "  </div>\n",
              "  "
            ]
          },
          "metadata": {},
          "execution_count": 40
        }
      ]
    },
    {
      "cell_type": "code",
      "source": [
        "# A - Agricultural\n",
        "# I - Industrial land\n",
        "# C - Commercial\n",
        "# RH - Residential High Density\n",
        "# RL -Residential low density\n",
        "# RM - RESIDENTIAL MEDIUM DENSITY\n",
        "\n",
        "\n",
        "\n",
        "# Ft vs Target -very very important plot\n",
        "# 1) is there a relationshop between feature and the target ?\n",
        "# 2) is there a linear relationship between the feature and the target ?\n",
        "\n",
        "# data.groupby('AREA')['SALES_PRICE'].mean().reset_index().sort_values('SALES_PRICE')['AREA'])\n"
      ],
      "metadata": {
        "id": "g7Ne_qeDj3Xn"
      },
      "execution_count": 41,
      "outputs": []
    },
    {
      "cell_type": "markdown",
      "source": [
        "##EDA"
      ],
      "metadata": {
        "id": "6wv-Jl-thYcM"
      }
    },
    {
      "cell_type": "markdown",
      "source": [
        "##Catagorical variable EDA"
      ],
      "metadata": {
        "id": "11LDAYuthKKf"
      }
    },
    {
      "cell_type": "code",
      "source": [
        "import seaborn as sns\n",
        "import matplotlib.pyplot as plt"
      ],
      "metadata": {
        "id": "GgMvTdKW4Pv-"
      },
      "execution_count": 42,
      "outputs": []
    },
    {
      "cell_type": "code",
      "source": [
        "A=daf.AREA.groupby(daf.AREA).count() \n",
        "B=daf.AREA.groupby(daf.BUILDTYPE).count()\n",
        "C=daf.AREA.groupby(daf.UTILITY_AVAIL).count() \n",
        "D=daf.AREA.groupby(daf.STREET).count()\n",
        "E=daf.AREA.groupby(daf.MZZONE).count()\n",
        "F=daf.AREA.groupby(daf.PARK_FACIL).count()"
      ],
      "metadata": {
        "id": "kA00BInp5qhu"
      },
      "execution_count": 43,
      "outputs": []
    },
    {
      "cell_type": "code",
      "source": [
        "sns.barplot(x=A.index,y=A.values, data=daf)\n",
        "plt.xticks(rotation=15)\n",
        "plt.title('NO. OF HOUSES (AREA WISE)')"
      ],
      "metadata": {
        "colab": {
          "base_uri": "https://localhost:8080/",
          "height": 328
        },
        "id": "UztVa0pu9rW3",
        "outputId": "0dfd406c-7963-45bc-9164-f92edc74a398"
      },
      "execution_count": 44,
      "outputs": [
        {
          "output_type": "execute_result",
          "data": {
            "text/plain": [
              "Text(0.5, 1.0, 'NO. OF HOUSES (AREA WISE)')"
            ]
          },
          "metadata": {},
          "execution_count": 44
        },
        {
          "output_type": "display_data",
          "data": {
            "text/plain": [
              "<Figure size 432x288 with 1 Axes>"
            ],
            "image/png": "[encoded data removed]"
          },
          "metadata": {
            "needs_background": "light"
          }
        }
      ]
    },
    {
      "cell_type": "markdown",
      "source": [
        "As there is no linear pattern in this order so i decided to check the graph in ordered form"
      ],
      "metadata": {
        "id": "gB7dd55yiSnO"
      }
    },
    {
      "cell_type": "code",
      "source": [
        "sns.barplot(x=daf.AREA, y=daf.SALES_PRICE,order=daf.groupby('AREA')['SALES_PRICE'].mean().reset_index().sort_values('SALES_PRICE')['AREA'])"
      ],
      "metadata": {
        "colab": {
          "base_uri": "https://localhost:8080/",
          "height": 307
        },
        "id": "sxn5q8igauVF",
        "outputId": "22f2d64d-3b93-4e21-9626-515fab97edaf"
      },
      "execution_count": 45,
      "outputs": [
        {
          "output_type": "execute_result",
          "data": {
            "text/plain": [
              "<matplotlib.axes._subplots.AxesSubplot at 0x7f709ebd2510>"
            ]
          },
          "metadata": {},
          "execution_count": 45
        },
        {
          "output_type": "display_data",
          "data": {
            "text/plain": [
              "<Figure size 432x288 with 1 Axes>"
            ],
            "image/png": "[encoded data removed]"
          },
          "metadata": {
            "needs_background": "light"
          }
        }
      ]
    },
    {
      "cell_type": "markdown",
      "source": [
        "After the ordering done its seems to have a good linear pattern\n",
        "\n",
        "1.   There is relation ship between area and sales price\n",
        "2.   There is a linear relationship\n",
        "2.   No tranformation required\n",
        "\n",
        "\n",
        "\n"
      ],
      "metadata": {
        "id": "xhhWNoLYi4ri"
      }
    },
    {
      "cell_type": "code",
      "source": [
        "# sns.set_theme (style=\"darkgrid\", palette=\"pastel\")\n",
        "# plt.figure(figsize=(20,16))\n",
        "# plt.subplot (231)\n",
        "# sns.barplot(x=A.index,y=A.values, data=daf)\n",
        "# plt.xticks(rotation=15)\n",
        "# plt.title('NO. OF HOUSES (AREA WISE)')\n",
        "# plt.subplot(232)\n",
        "# sns.barplot(x=B.index,y=B.values,data=daf)\n",
        "# plt.xticks(rotation=15)\n",
        "# plt.title('NO. OF HOUSES (BUILDTYPE WISE)')\n",
        "# plt.subplot (233)\n",
        "# sns.barplot(x=C.index,y=C.values,data=daf)\n",
        "# plt.xticks(rotation=15)\n",
        "# plt.title('NO. OF HOUSES (UTILITY AVAIL WISE)')\n",
        "# plt.subplot(234)\n",
        "# sns.barplot(x=D.index,y=D.values, data=daf)\n",
        "# plt.xticks(rotation=15)\n",
        "# plt.title('NO. OF HOUSES (STREET WISE)')\n",
        "# plt.subplot (235)\n",
        "# sns.barplot(x=E.index,y=E.values,data=daf)\n",
        "# plt.xticks (rotation=15)\n",
        "# plt.title('NO. OF HOUSES (MZZONE)')\n",
        "# plt.subplot(236)\n",
        "# sns.barplot(x=F.index,y=F.values, data=daf)\n",
        "# plt.xticks(rotation=15)\n",
        "# plt.title('NO. OF HOUSES (PARK FACILITY)')\n",
        "# plt.show()"
      ],
      "metadata": {
        "id": "EhHVl7Bx7X9-"
      },
      "execution_count": 46,
      "outputs": []
    },
    {
      "cell_type": "code",
      "source": [
        "sns.barplot(x=daf.BUILDTYPE, y=daf.SALES_PRICE,order=daf.groupby('BUILDTYPE')['SALES_PRICE'].mean().reset_index().sort_values('SALES_PRICE')['BUILDTYPE'])"
      ],
      "metadata": {
        "colab": {
          "base_uri": "https://localhost:8080/",
          "height": 307
        },
        "id": "BcVlY4RUc62a",
        "outputId": "224236d8-8f79-4f91-8f24-7781bb523a82"
      },
      "execution_count": 47,
      "outputs": [
        {
          "output_type": "execute_result",
          "data": {
            "text/plain": [
              "<matplotlib.axes._subplots.AxesSubplot at 0x7f709e6c1ed0>"
            ]
          },
          "metadata": {},
          "execution_count": 47
        },
        {
          "output_type": "display_data",
          "data": {
            "text/plain": [
              "<Figure size 432x288 with 1 Axes>"
            ],
            "image/png": "[encoded data removed]"
          },
          "metadata": {
            "needs_background": "light"
          }
        }
      ]
    },
    {
      "cell_type": "markdown",
      "source": [
        "1.   There is relation ship between build type and sales price\n",
        "1.   There is a linear relationship\n",
        "2.   No tranformation required\n",
        "\n",
        "\n",
        "\n",
        "\n",
        "\n",
        "\n",
        "\n",
        "\n"
      ],
      "metadata": {
        "id": "tzHPjA1Wi-F4"
      }
    },
    {
      "cell_type": "code",
      "source": [
        "sns.barplot(x=daf.UTILITY_AVAIL, y=daf.SALES_PRICE,order=daf.groupby('UTILITY_AVAIL')['SALES_PRICE'].mean().reset_index().sort_values('SALES_PRICE')['UTILITY_AVAIL'])"
      ],
      "metadata": {
        "colab": {
          "base_uri": "https://localhost:8080/",
          "height": 308
        },
        "id": "pXijV3QAdTVJ",
        "outputId": "84557fd2-88e8-498b-e900-92d94a6450bb"
      },
      "execution_count": 48,
      "outputs": [
        {
          "output_type": "execute_result",
          "data": {
            "text/plain": [
              "<matplotlib.axes._subplots.AxesSubplot at 0x7f709e6cd750>"
            ]
          },
          "metadata": {},
          "execution_count": 48
        },
        {
          "output_type": "display_data",
          "data": {
            "text/plain": [
              "<Figure size 432x288 with 1 Axes>"
            ],
            "image/png": "[encoded data removed]"
          },
          "metadata": {
            "needs_background": "light"
          }
        }
      ]
    },
    {
      "cell_type": "markdown",
      "source": [
        "1.   There is relation ship between utility avail and sales price\n",
        "1.   There is a linear relationship\n",
        "2.   No tranformation required"
      ],
      "metadata": {
        "id": "xpaS5WtYkZkW"
      }
    },
    {
      "cell_type": "code",
      "source": [
        "sns.barplot(x=daf.STREET, y=daf.SALES_PRICE,order=daf.groupby('STREET')['SALES_PRICE'].mean().reset_index().sort_values('SALES_PRICE')['STREET'])"
      ],
      "metadata": {
        "colab": {
          "base_uri": "https://localhost:8080/",
          "height": 307
        },
        "id": "99e8mtRZdl_r",
        "outputId": "27e27af5-9518-4814-9435-ae3faee18a35"
      },
      "execution_count": 49,
      "outputs": [
        {
          "output_type": "execute_result",
          "data": {
            "text/plain": [
              "<matplotlib.axes._subplots.AxesSubplot at 0x7f709e62b190>"
            ]
          },
          "metadata": {},
          "execution_count": 49
        },
        {
          "output_type": "display_data",
          "data": {
            "text/plain": [
              "<Figure size 432x288 with 1 Axes>"
            ],
            "image/png": "[encoded data removed]"
          },
          "metadata": {
            "needs_background": "light"
          }
        }
      ]
    },
    {
      "cell_type": "markdown",
      "source": [
        "1.   There is relation ship between street and sales price\n",
        "1.   There is a linear relationship\n",
        "2.   No tranformation required"
      ],
      "metadata": {
        "id": "bl1_H-AXkgaM"
      }
    },
    {
      "cell_type": "code",
      "source": [
        "sns.barplot(x=daf.MZZONE, y=daf.SALES_PRICE,order=daf.groupby('MZZONE')['SALES_PRICE'].mean().reset_index().sort_values('SALES_PRICE')['MZZONE'])"
      ],
      "metadata": {
        "colab": {
          "base_uri": "https://localhost:8080/",
          "height": 307
        },
        "id": "Fo5NnLdLdvxK",
        "outputId": "4395c7da-6bc1-437f-f132-c41220e59eac"
      },
      "execution_count": 50,
      "outputs": [
        {
          "output_type": "execute_result",
          "data": {
            "text/plain": [
              "<matplotlib.axes._subplots.AxesSubplot at 0x7f709e584b90>"
            ]
          },
          "metadata": {},
          "execution_count": 50
        },
        {
          "output_type": "display_data",
          "data": {
            "text/plain": [
              "<Figure size 432x288 with 1 Axes>"
            ],
            "image/png": "[encoded data removed]"
          },
          "metadata": {
            "needs_background": "light"
          }
        }
      ]
    },
    {
      "cell_type": "markdown",
      "source": [
        "1.   There is relation ship between MZZONE and sales price\n",
        "1.   There is a linear relationship\n",
        "2.   No tranformation required"
      ],
      "metadata": {
        "id": "mTZE3Qqjkjg-"
      }
    },
    {
      "cell_type": "code",
      "source": [
        "sns.barplot(x=daf.PARK_FACIL, y=daf.SALES_PRICE,order=daf.groupby('PARK_FACIL')['SALES_PRICE'].mean().reset_index().sort_values('SALES_PRICE')['PARK_FACIL'])"
      ],
      "metadata": {
        "colab": {
          "base_uri": "https://localhost:8080/",
          "height": 308
        },
        "id": "EC9vsVL_d-Xb",
        "outputId": "7c7bc923-f17a-4771-a22e-215b4a3f5e73"
      },
      "execution_count": 51,
      "outputs": [
        {
          "output_type": "execute_result",
          "data": {
            "text/plain": [
              "<matplotlib.axes._subplots.AxesSubplot at 0x7f709e521910>"
            ]
          },
          "metadata": {},
          "execution_count": 51
        },
        {
          "output_type": "display_data",
          "data": {
            "text/plain": [
              "<Figure size 432x288 with 1 Axes>"
            ],
            "image/png": "[encoded data removed]"
          },
          "metadata": {
            "needs_background": "light"
          }
        }
      ]
    },
    {
      "cell_type": "markdown",
      "source": [
        "1.   There is relation ship between parkfaclity and sales price\n",
        "1.   There is a linear relationship\n",
        "2.   No tranformation required"
      ],
      "metadata": {
        "id": "eOlWGkrqkmt3"
      }
    },
    {
      "cell_type": "code",
      "source": [
        "sns.barplot(x=daf.SALE_COND, y=daf.SALES_PRICE,order=daf.groupby('SALE_COND')['SALES_PRICE'].mean().reset_index().sort_values('SALES_PRICE')['SALE_COND'])"
      ],
      "metadata": {
        "colab": {
          "base_uri": "https://localhost:8080/",
          "height": 308
        },
        "id": "W_Hkx-oXqiS2",
        "outputId": "6fd389ef-5b5f-4a82-f524-087121f5361f"
      },
      "execution_count": 52,
      "outputs": [
        {
          "output_type": "execute_result",
          "data": {
            "text/plain": [
              "<matplotlib.axes._subplots.AxesSubplot at 0x7f709e491f90>"
            ]
          },
          "metadata": {},
          "execution_count": 52
        },
        {
          "output_type": "display_data",
          "data": {
            "text/plain": [
              "<Figure size 432x288 with 1 Axes>"
            ],
            "image/png": "[encoded data removed]"
          },
          "metadata": {
            "needs_background": "light"
          }
        }
      ]
    },
    {
      "cell_type": "markdown",
      "source": [
        "1.   There is relation ship between SALE_COND and sales price\n",
        "1.   There is a linear relationship\n",
        "2.   No tranformation required"
      ],
      "metadata": {
        "id": "UjNxrpKekris"
      }
    },
    {
      "cell_type": "code",
      "source": [
        "daf.dtypes"
      ],
      "metadata": {
        "colab": {
          "base_uri": "https://localhost:8080/"
        },
        "id": "Rtu5CnyxfDw0",
        "outputId": "4bf30817-17b4-479b-a7e6-4efde4bb12ea"
      },
      "execution_count": 53,
      "outputs": [
        {
          "output_type": "execute_result",
          "data": {
            "text/plain": [
              "AREA                object\n",
              "INT_SQFT             int64\n",
              "DIST_MAINROAD        int64\n",
              "N_BEDROOM            int64\n",
              "N_BATHROOM           int64\n",
              "N_ROOM               int64\n",
              "SALE_COND           object\n",
              "PARK_FACIL          object\n",
              "BUILDTYPE           object\n",
              "UTILITY_AVAIL       object\n",
              "STREET              object\n",
              "MZZONE              object\n",
              "QS_ROOMS           float64\n",
              "QS_BATHROOM        float64\n",
              "QS_BEDROOM         float64\n",
              "QS_OVERALL         float64\n",
              "SALES_PRICE          int64\n",
              "Age_of_building      int64\n",
              "dtype: object"
            ]
          },
          "metadata": {},
          "execution_count": 53
        }
      ]
    },
    {
      "cell_type": "code",
      "source": [
        "target= daf.SALES_PRICE"
      ],
      "metadata": {
        "id": "u_AtHgXyyTEX"
      },
      "execution_count": 54,
      "outputs": []
    },
    {
      "cell_type": "code",
      "source": [
        "sns.regplot(x=daf.INT_SQFT,y=target, color=\"r\")\n",
        "plt.title('INT_SQFT VS SALES PRICE')"
      ],
      "metadata": {
        "colab": {
          "base_uri": "https://localhost:8080/",
          "height": 313
        },
        "id": "YzgPGQNAxgmn",
        "outputId": "47335f57-d153-4682-a62f-904cf0179105"
      },
      "execution_count": 55,
      "outputs": [
        {
          "output_type": "execute_result",
          "data": {
            "text/plain": [
              "Text(0.5, 1.0, 'INT_SQFT VS SALES PRICE')"
            ]
          },
          "metadata": {},
          "execution_count": 55
        },
        {
          "output_type": "display_data",
          "data": {
            "text/plain": [
              "<Figure size 432x288 with 1 Axes>"
            ],
            "image/png": "[encoded data removed]"
          },
          "metadata": {
            "needs_background": "light"
          }
        }
      ]
    },
    {
      "cell_type": "markdown",
      "source": [
        "1.   There is relation ship between INTSQRT and sales price\n",
        "1.   There is a linear relationship\n",
        "2.   No tranformation required"
      ],
      "metadata": {
        "id": "M-jy-f7Ak1zE"
      }
    },
    {
      "cell_type": "code",
      "source": [
        "sns.regplot(x=daf.DIST_MAINROAD, y=target,color=\"g\")\n",
        "plt.title('DIST MAINROAD VI SALES PRICE')"
      ],
      "metadata": {
        "colab": {
          "base_uri": "https://localhost:8080/",
          "height": 313
        },
        "id": "OnAjWNz-gbYP",
        "outputId": "aaa1d32b-3a63-497d-ead5-e8caca3b6c4d"
      },
      "execution_count": 56,
      "outputs": [
        {
          "output_type": "execute_result",
          "data": {
            "text/plain": [
              "Text(0.5, 1.0, 'DIST MAINROAD VI SALES PRICE')"
            ]
          },
          "metadata": {},
          "execution_count": 56
        },
        {
          "output_type": "display_data",
          "data": {
            "text/plain": [
              "<Figure size 432x288 with 1 Axes>"
            ],
            "image/png": "[encoded data removed]"
          },
          "metadata": {
            "needs_background": "light"
          }
        }
      ]
    },
    {
      "cell_type": "markdown",
      "source": [
        "1.   There is NOrelation ship between DIST MAINROAD and sales price\n",
        "1.   There is a NOlinear relationship\n",
        "2.   tranformation required\n",
        "\n",
        "1.   AFTER TRANS ALSO NO RELATIONSHIP SO BETTER TO DROP\n",
        "\n"
      ],
      "metadata": {
        "id": "83ULbnbSk7Gt"
      }
    },
    {
      "cell_type": "code",
      "source": [
        "sns.regplot(x=daf.N_ROOM, y=target,color=\"r\")\n",
        "plt.title('N_ROOM VS SALES_PRICE')"
      ],
      "metadata": {
        "colab": {
          "base_uri": "https://localhost:8080/",
          "height": 313
        },
        "id": "gkTmVm1Tgb9n",
        "outputId": "ded7a839-4bff-4cbf-8376-ecdbb2b1e8de"
      },
      "execution_count": 57,
      "outputs": [
        {
          "output_type": "execute_result",
          "data": {
            "text/plain": [
              "Text(0.5, 1.0, 'N_ROOM VS SALES_PRICE')"
            ]
          },
          "metadata": {},
          "execution_count": 57
        },
        {
          "output_type": "display_data",
          "data": {
            "text/plain": [
              "<Figure size 432x288 with 1 Axes>"
            ],
            "image/png": "[encoded data removed]"
          },
          "metadata": {
            "needs_background": "light"
          }
        }
      ]
    },
    {
      "cell_type": "markdown",
      "source": [
        "1.   There is relation ship between N ROOM and sales price\n",
        "1.   There is a linear relationship\n",
        "2.   No tranformation required"
      ],
      "metadata": {
        "id": "s_2EtIhglYxz"
      }
    },
    {
      "cell_type": "code",
      "source": [
        "sns.regplot(x=daf.QS_ROOMS,y=target,color=\"g\")\n",
        "plt.title('Q5_ROOMS VS SALES_PRICE')"
      ],
      "metadata": {
        "colab": {
          "base_uri": "https://localhost:8080/",
          "height": 313
        },
        "id": "Ey75xaQsgeWP",
        "outputId": "3d74f2cb-f4c8-4525-9f89-c3884a5fca55"
      },
      "execution_count": 58,
      "outputs": [
        {
          "output_type": "execute_result",
          "data": {
            "text/plain": [
              "Text(0.5, 1.0, 'Q5_ROOMS VS SALES_PRICE')"
            ]
          },
          "metadata": {},
          "execution_count": 58
        },
        {
          "output_type": "display_data",
          "data": {
            "text/plain": [
              "<Figure size 432x288 with 1 Axes>"
            ],
            "image/png": "[encoded data removed]"
          },
          "metadata": {
            "needs_background": "light"
          }
        }
      ]
    },
    {
      "cell_type": "markdown",
      "source": [
        "1.   There is NOrelation ship between QS ROOMS and sales price\n",
        "1.   There is a NOlinear relationship\n",
        "2.   tranformation required\n",
        "\n",
        "1.   AFTER TRANS ALSO NO LINEAR RELATIONSHIP SO BETTER TO DROP"
      ],
      "metadata": {
        "id": "LfZ0ZsjQlctM"
      }
    },
    {
      "cell_type": "code",
      "source": [
        "sns.regplot(x=daf.QS_BATHROOM,y=target, color=\"g\")\n",
        "plt.title('Q5 BATHROOM VS SALES_PRICE')"
      ],
      "metadata": {
        "colab": {
          "base_uri": "https://localhost:8080/",
          "height": 313
        },
        "id": "zy2vWB4Dght9",
        "outputId": "c198dd69-9a6b-4ec0-ab01-2fc88619580f"
      },
      "execution_count": 59,
      "outputs": [
        {
          "output_type": "execute_result",
          "data": {
            "text/plain": [
              "Text(0.5, 1.0, 'Q5 BATHROOM VS SALES_PRICE')"
            ]
          },
          "metadata": {},
          "execution_count": 59
        },
        {
          "output_type": "display_data",
          "data": {
            "text/plain": [
              "<Figure size 432x288 with 1 Axes>"
            ],
            "image/png": "[encoded data removed]"
          },
          "metadata": {
            "needs_background": "light"
          }
        }
      ]
    },
    {
      "cell_type": "markdown",
      "source": [
        "1.   There is NOrelation ship between QS BATH ROOM and sales price\n",
        "1.   There is a NOlinear relationship\n",
        "2.   tranformation required\n",
        "\n",
        "1.   AFTER TRANS ALSO NO LINEAR RELATIONSHIP SO BETTER TO DROP"
      ],
      "metadata": {
        "id": "du83JwOlloBz"
      }
    },
    {
      "cell_type": "code",
      "source": [
        "sns.regplot(x=daf.QS_BEDROOM,y=target,color=\"g\") \n",
        "plt.title('QS BEDROOM vs SALES PRICE')"
      ],
      "metadata": {
        "colab": {
          "base_uri": "https://localhost:8080/",
          "height": 313
        },
        "id": "X9ije6-dglLB",
        "outputId": "5fe2212d-f27f-490e-fa19-b481587f6f0c"
      },
      "execution_count": 60,
      "outputs": [
        {
          "output_type": "execute_result",
          "data": {
            "text/plain": [
              "Text(0.5, 1.0, 'QS BEDROOM vs SALES PRICE')"
            ]
          },
          "metadata": {},
          "execution_count": 60
        },
        {
          "output_type": "display_data",
          "data": {
            "text/plain": [
              "<Figure size 432x288 with 1 Axes>"
            ],
            "image/png": "[encoded data removed]"
          },
          "metadata": {
            "needs_background": "light"
          }
        }
      ]
    },
    {
      "cell_type": "markdown",
      "source": [
        "1.   There is NOrelation ship between QS BEDROOM and sales price\n",
        "1.   There is a NOlinear relationship\n",
        "2.   tranformation required\n",
        "\n",
        "1.   AFTER TRANS ALSO NO RELATIONSHIP SO BETTER TO DROP"
      ],
      "metadata": {
        "id": "g_sByC-GlsNz"
      }
    },
    {
      "cell_type": "code",
      "source": [
        "sns.regplot(x=daf.Age_of_building,y=target,color=\"b\")\n",
        "plt.title('AGE vs SALES PRICE')"
      ],
      "metadata": {
        "colab": {
          "base_uri": "https://localhost:8080/",
          "height": 313
        },
        "id": "xwyCXQ2_goFt",
        "outputId": "0e2bae91-44e0-42e7-e33b-40b3d8646a4a"
      },
      "execution_count": 61,
      "outputs": [
        {
          "output_type": "execute_result",
          "data": {
            "text/plain": [
              "Text(0.5, 1.0, 'AGE vs SALES PRICE')"
            ]
          },
          "metadata": {},
          "execution_count": 61
        },
        {
          "output_type": "display_data",
          "data": {
            "text/plain": [
              "<Figure size 432x288 with 1 Axes>"
            ],
            "image/png": "[encoded data removed]"
          },
          "metadata": {
            "needs_background": "light"
          }
        }
      ]
    },
    {
      "cell_type": "markdown",
      "source": [
        "1.   There is relation ship between AGE and sales price\n",
        "1.   There is a linear relationship\n",
        "2.   No tranformation required"
      ],
      "metadata": {
        "id": "6QosKoj2mg5K"
      }
    },
    {
      "cell_type": "code",
      "source": [
        ""
      ],
      "metadata": {
        "id": "l104Q47jlwOs"
      },
      "execution_count": 61,
      "outputs": []
    },
    {
      "cell_type": "markdown",
      "source": [
        "##encoding"
      ],
      "metadata": {
        "id": "zYgHheQIbfdB"
      }
    },
    {
      "cell_type": "code",
      "source": [
        "##AS THERE IS ORDER IN THE DATA SO LABEL ENCODING\n",
        "daf.AREA=daf.AREA.map({'Karapakkam': 1, 'Adyar': 2 ,'Chromepet' :3, 'Velachery':4, 'KKNagar':5, 'AnnaNagar': 6, 'TNagar':7})\n"
      ],
      "metadata": {
        "id": "fX-8nSb6y5Ys"
      },
      "execution_count": 62,
      "outputs": []
    },
    {
      "cell_type": "code",
      "source": [
        "##AS THERE IS ORDER IN THE DATA SO LABEL ENCODING\n",
        "daf.SALE_COND= daf.SALE_COND.map({'Partial':1,'Family':2,'abnormal':3,'Normal Sale':4,'adjland':5})"
      ],
      "metadata": {
        "id": "w8UrwPQFoRs-"
      },
      "execution_count": 63,
      "outputs": []
    },
    {
      "cell_type": "code",
      "source": [
        "##AS THERE IS BINARY CATAGORICAL DATA SO LABEL ENCODING\n",
        "daf.PARK_FACIL= daf.PARK_FACIL.map({\"no\":1, 'yes':2})"
      ],
      "metadata": {
        "id": "xhgNWkS-nZnu"
      },
      "execution_count": 64,
      "outputs": []
    },
    {
      "cell_type": "code",
      "source": [
        "###AS THERE IS NOORDER IN THE DATA SO ONHOT ENCODING\n",
        "one_hot=pd.get_dummies(daf.BUILDTYPE).astype(int)\n",
        "daf=daf.join(one_hot)"
      ],
      "metadata": {
        "id": "gGMxsobbomAc"
      },
      "execution_count": 65,
      "outputs": []
    },
    {
      "cell_type": "code",
      "source": [
        "##AS THERE IS ORDER IN THE DATA SO LABEL ENCODING\n",
        "daf.UTILITY_AVAIL= daf.UTILITY_AVAIL.map({'ELO':1, 'NoSeWa':2, 'NoSewr ':3, 'allpublic':4})"
      ],
      "metadata": {
        "id": "umGG-P2VpHuP"
      },
      "execution_count": 66,
      "outputs": []
    },
    {
      "cell_type": "code",
      "source": [
        "##AS THERE IS ORDER IN THE DATA SO LABEL ENCODING\n",
        "daf.STREET= daf.STREET.map({'noaccess':1, 'paved': 2, 'Gravel' :3})"
      ],
      "metadata": {
        "id": "KjoRYjbRpWRT"
      },
      "execution_count": 67,
      "outputs": []
    },
    {
      "cell_type": "code",
      "source": [
        "##AS THERE IS ORDER IN THE DATA SO LABEL ENCODING\n",
        "daf.MZZONE= daf.MZZONE.map({'A':1, 'C': 2,'I' :3, 'RH':5, 'RL': 6, 'RM':7})"
      ],
      "metadata": {
        "id": "e8FoQnI7piQM"
      },
      "execution_count": 68,
      "outputs": []
    },
    {
      "cell_type": "code",
      "source": [
        "daf.dtypes"
      ],
      "metadata": {
        "colab": {
          "base_uri": "https://localhost:8080/"
        },
        "id": "dd4HVb3Bs168",
        "outputId": "af554f6d-35ae-425b-ece1-e4879db7cca2"
      },
      "execution_count": 69,
      "outputs": [
        {
          "output_type": "execute_result",
          "data": {
            "text/plain": [
              "AREA                 int64\n",
              "INT_SQFT             int64\n",
              "DIST_MAINROAD        int64\n",
              "N_BEDROOM            int64\n",
              "N_BATHROOM           int64\n",
              "N_ROOM               int64\n",
              "SALE_COND            int64\n",
              "PARK_FACIL           int64\n",
              "BUILDTYPE           object\n",
              "UTILITY_AVAIL        int64\n",
              "STREET               int64\n",
              "MZZONE               int64\n",
              "QS_ROOMS           float64\n",
              "QS_BATHROOM        float64\n",
              "QS_BEDROOM         float64\n",
              "QS_OVERALL         float64\n",
              "SALES_PRICE          int64\n",
              "Age_of_building      int64\n",
              "House                int64\n",
              "commercial           int64\n",
              "others               int64\n",
              "dtype: object"
            ]
          },
          "metadata": {},
          "execution_count": 69
        }
      ]
    },
    {
      "cell_type": "code",
      "source": [
        "daf['SALES_PRICE'].std() "
      ],
      "metadata": {
        "colab": {
          "base_uri": "https://localhost:8080/"
        },
        "id": "Hy5lUmWd1ZdP",
        "outputId": "c9f40a9d-64fe-4451-d442-e24519e2ec5c"
      },
      "execution_count": 70,
      "outputs": [
        {
          "output_type": "execute_result",
          "data": {
            "text/plain": [
              "3768603.4570030593"
            ]
          },
          "metadata": {},
          "execution_count": 70
        }
      ]
    },
    {
      "cell_type": "code",
      "source": [
        "#DROPING THE COLUMN THAT HAS NO RELATIONSHIP WITH TARGET VARIABLE\n",
        "daf=daf.drop(columns=['BUILDTYPE','QS_ROOMS','QS_BATHROOM','QS_BEDROOM','QS_OVERALL','DIST_MAINROAD'])"
      ],
      "metadata": {
        "id": "Hyz8-HnttDEy"
      },
      "execution_count": 71,
      "outputs": []
    },
    {
      "cell_type": "code",
      "source": [
        "daf.head()"
      ],
      "metadata": {
        "colab": {
          "base_uri": "https://localhost:8080/",
          "height": 206
        },
        "id": "_zRQ0AsUpTsj",
        "outputId": "c1a2bca8-05d0-46a0-8cd1-9bb387c3b95a"
      },
      "execution_count": 72,
      "outputs": [
        {
          "output_type": "execute_result",
          "data": {
            "text/plain": [
              "   AREA  INT_SQFT  N_BEDROOM  N_BATHROOM  N_ROOM  SALE_COND  PARK_FACIL  \\\n",
              "0     1      1004          1           1       3          3           2   \n",
              "1     6      1986          2           1       5          3           1   \n",
              "2     2       909          1           1       3          3           2   \n",
              "3     4      1855          3           2       5          2           1   \n",
              "4     1      1226          1           1       3          3           2   \n",
              "\n",
              "   UTILITY_AVAIL  STREET  MZZONE  SALES_PRICE  Age_of_building  House  \\\n",
              "0              4       2       1      7600000               44      0   \n",
              "1              4       3       5     21717770               11      0   \n",
              "2              1       3       6     13159200               20      0   \n",
              "3              3       2       3      9630290               22      0   \n",
              "4              4       3       2      7406250               30      0   \n",
              "\n",
              "   commercial  others  \n",
              "0           1       0  \n",
              "1           1       0  \n",
              "2           1       0  \n",
              "3           0       1  \n",
              "4           0       1  "
            ],
            "text/html": [
              "\n",
              "  <div id=\"df-8ca1bc4b-9ee2-4007-897b-5d6edab15307\">\n",
              "    <div class=\"colab-df-container\">\n",
              "      <div>\n",
              "<style scoped>\n",
              "    .dataframe tbody tr th:only-of-type {\n",
              "        vertical-align: middle;\n",
              "    }\n",
              "\n",
              "    .dataframe tbody tr th {\n",
              "        vertical-align: top;\n",
              "    }\n",
              "\n",
              "    .dataframe thead th {\n",
              "        text-align: right;\n",
              "    }\n",
              "</style>\n",
              "<table border=\"1\" class=\"dataframe\">\n",
              "  <thead>\n",
              "    <tr style=\"text-align: right;\">\n",
              "      <th></th>\n",
              "      <th>AREA</th>\n",
              "      <th>INT_SQFT</th>\n",
              "      <th>N_BEDROOM</th>\n",
              "      <th>N_BATHROOM</th>\n",
              "      <th>N_ROOM</th>\n",
              "      <th>SALE_COND</th>\n",
              "      <th>PARK_FACIL</th>\n",
              "      <th>UTILITY_AVAIL</th>\n",
              "      <th>STREET</th>\n",
              "      <th>MZZONE</th>\n",
              "      <th>SALES_PRICE</th>\n",
              "      <th>Age_of_building</th>\n",
              "      <th>House</th>\n",
              "      <th>commercial</th>\n",
              "      <th>others</th>\n",
              "    </tr>\n",
              "  </thead>\n",
              "  <tbody>\n",
              "    <tr>\n",
              "      <th>0</th>\n",
              "      <td>1</td>\n",
              "      <td>1004</td>\n",
              "      <td>1</td>\n",
              "      <td>1</td>\n",
              "      <td>3</td>\n",
              "      <td>3</td>\n",
              "      <td>2</td>\n",
              "      <td>4</td>\n",
              "      <td>2</td>\n",
              "      <td>1</td>\n",
              "      <td>7600000</td>\n",
              "      <td>44</td>\n",
              "      <td>0</td>\n",
              "      <td>1</td>\n",
              "      <td>0</td>\n",
              "    </tr>\n",
              "    <tr>\n",
              "      <th>1</th>\n",
              "      <td>6</td>\n",
              "      <td>1986</td>\n",
              "      <td>2</td>\n",
              "      <td>1</td>\n",
              "      <td>5</td>\n",
              "      <td>3</td>\n",
              "      <td>1</td>\n",
              "      <td>4</td>\n",
              "      <td>3</td>\n",
              "      <td>5</td>\n",
              "      <td>21717770</td>\n",
              "      <td>11</td>\n",
              "      <td>0</td>\n",
              "      <td>1</td>\n",
              "      <td>0</td>\n",
              "    </tr>\n",
              "    <tr>\n",
              "      <th>2</th>\n",
              "      <td>2</td>\n",
              "      <td>909</td>\n",
              "      <td>1</td>\n",
              "      <td>1</td>\n",
              "      <td>3</td>\n",
              "      <td>3</td>\n",
              "      <td>2</td>\n",
              "      <td>1</td>\n",
              "      <td>3</td>\n",
              "      <td>6</td>\n",
              "      <td>13159200</td>\n",
              "      <td>20</td>\n",
              "      <td>0</td>\n",
              "      <td>1</td>\n",
              "      <td>0</td>\n",
              "    </tr>\n",
              "    <tr>\n",
              "      <th>3</th>\n",
              "      <td>4</td>\n",
              "      <td>1855</td>\n",
              "      <td>3</td>\n",
              "      <td>2</td>\n",
              "      <td>5</td>\n",
              "      <td>2</td>\n",
              "      <td>1</td>\n",
              "      <td>3</td>\n",
              "      <td>2</td>\n",
              "      <td>3</td>\n",
              "      <td>9630290</td>\n",
              "      <td>22</td>\n",
              "      <td>0</td>\n",
              "      <td>0</td>\n",
              "      <td>1</td>\n",
              "    </tr>\n",
              "    <tr>\n",
              "      <th>4</th>\n",
              "      <td>1</td>\n",
              "      <td>1226</td>\n",
              "      <td>1</td>\n",
              "      <td>1</td>\n",
              "      <td>3</td>\n",
              "      <td>3</td>\n",
              "      <td>2</td>\n",
              "      <td>4</td>\n",
              "      <td>3</td>\n",
              "      <td>2</td>\n",
              "      <td>7406250</td>\n",
              "      <td>30</td>\n",
              "      <td>0</td>\n",
              "      <td>0</td>\n",
              "      <td>1</td>\n",
              "    </tr>\n",
              "  </tbody>\n",
              "</table>\n",
              "</div>\n",
              "      <button class=\"colab-df-convert\" onclick=\"convertToInteractive('df-8ca1bc4b-9ee2-4007-897b-5d6edab15307')\"\n",
              "              title=\"Convert this dataframe to an interactive table.\"\n",
              "              style=\"display:none;\">\n",
              "        \n",
              "  <svg xmlns=\"http://www.w3.org/2000/svg\" height=\"24px\"viewBox=\"0 0 24 24\"\n",
              "       width=\"24px\">\n",
              "    <path d=\"M0 0h24v24H0V0z\" fill=\"none\"/>\n",
              "    <path d=\"M18.56 5.44l.94 2.06.94-2.06 2.06-.94-2.06-.94-.94-2.06-.94 2.06-2.06.94zm-11 1L8.5 8.5l.94-2.06 2.06-.94-2.06-.94L8.5 2.5l-.94 2.06-2.06.94zm10 10l.94 2.06.94-2.06 2.06-.94-2.06-.94-.94-2.06-.94 2.06-2.06.94z\"/><path d=\"M17.41 7.96l-1.37-1.37c-.4-.4-.92-.59-1.43-.59-.52 0-1.04.2-1.43.59L10.3 9.45l-7.72 7.72c-.78.78-.78 2.05 0 2.83L4 21.41c.39.39.9.59 1.41.59.51 0 1.02-.2 1.41-.59l7.78-7.78 2.81-2.81c.8-.78.8-2.07 0-2.86zM5.41 20L4 18.59l7.72-7.72 1.47 1.35L5.41 20z\"/>\n",
              "  </svg>\n",
              "      </button>\n",
              "      \n",
              "  <style>\n",
              "    .colab-df-container {\n",
              "      display:flex;\n",
              "      flex-wrap:wrap;\n",
              "      gap: 12px;\n",
              "    }\n",
              "\n",
              "    .colab-df-convert {\n",
              "      background-color: #E8F0FE;\n",
              "      border: none;\n",
              "      border-radius: 50%;\n",
              "      cursor: pointer;\n",
              "      display: none;\n",
              "      fill: #1967D2;\n",
              "      height: 32px;\n",
              "      padding: 0 0 0 0;\n",
              "      width: 32px;\n",
              "    }\n",
              "\n",
              "    .colab-df-convert:hover {\n",
              "      background-color: #E2EBFA;\n",
              "      box-shadow: 0px 1px 2px rgba(60, 64, 67, 0.3), 0px 1px 3px 1px rgba(60, 64, 67, 0.15);\n",
              "      fill: #174EA6;\n",
              "    }\n",
              "\n",
              "    [theme=dark] .colab-df-convert {\n",
              "      background-color: #3B4455;\n",
              "      fill: #D2E3FC;\n",
              "    }\n",
              "\n",
              "    [theme=dark] .colab-df-convert:hover {\n",
              "      background-color: #434B5C;\n",
              "      box-shadow: 0px 1px 3px 1px rgba(0, 0, 0, 0.15);\n",
              "      filter: drop-shadow(0px 1px 2px rgba(0, 0, 0, 0.3));\n",
              "      fill: #FFFFFF;\n",
              "    }\n",
              "  </style>\n",
              "\n",
              "      <script>\n",
              "        const buttonEl =\n",
              "          document.querySelector('#df-8ca1bc4b-9ee2-4007-897b-5d6edab15307 button.colab-df-convert');\n",
              "        buttonEl.style.display =\n",
              "          google.colab.kernel.accessAllowed ? 'block' : 'none';\n",
              "\n",
              "        async function convertToInteractive(key) {\n",
              "          const element = document.querySelector('#df-8ca1bc4b-9ee2-4007-897b-5d6edab15307');\n",
              "          const dataTable =\n",
              "            await google.colab.kernel.invokeFunction('convertToInteractive',\n",
              "                                                     [key], {});\n",
              "          if (!dataTable) return;\n",
              "\n",
              "          const docLinkHtml = 'Like what you see? Visit the ' +\n",
              "            '<a target=\"_blank\" href=https://colab.research.google.com/notebooks/data_table.ipynb>data table notebook</a>'\n",
              "            + ' to learn more about interactive tables.';\n",
              "          element.innerHTML = '';\n",
              "          dataTable['output_type'] = 'display_data';\n",
              "          await google.colab.output.renderOutput(dataTable, element);\n",
              "          const docLink = document.createElement('div');\n",
              "          docLink.innerHTML = docLinkHtml;\n",
              "          element.appendChild(docLink);\n",
              "        }\n",
              "      </script>\n",
              "    </div>\n",
              "  </div>\n",
              "  "
            ]
          },
          "metadata": {},
          "execution_count": 72
        }
      ]
    },
    {
      "cell_type": "code",
      "source": [
        "#SPLITING FEATURES AND TARGET\n",
        "X=daf[[\t'AREA','INT_SQFT','N_BEDROOM','N_BATHROOM','N_ROOM','SALE_COND','PARK_FACIL','UTILITY_AVAIL','STREET','MZZONE','Age_of_building','House','commercial','others']]\n",
        "y=daf['SALES_PRICE']"
      ],
      "metadata": {
        "id": "ORfp6YumppG6"
      },
      "execution_count": 73,
      "outputs": []
    },
    {
      "cell_type": "code",
      "source": [
        ""
      ],
      "metadata": {
        "id": "2ZEZ0URs1XA7"
      },
      "execution_count": 73,
      "outputs": []
    },
    {
      "cell_type": "code",
      "source": [
        "# TRAIN TEST SPLIITTING\n",
        "from sklearn.model_selection import train_test_split\n",
        "X_train, X_test, y_train, y_test = train_test_split(X, y, test_size=0.2)"
      ],
      "metadata": {
        "id": "r8yHiHj1qXM5"
      },
      "execution_count": 74,
      "outputs": []
    },
    {
      "cell_type": "code",
      "source": [
        "import warnings\n",
        "warnings.filterwarnings('ignore')"
      ],
      "metadata": {
        "id": "4SfxDm25CWA2"
      },
      "execution_count": 75,
      "outputs": []
    },
    {
      "cell_type": "markdown",
      "source": [
        "\n",
        "> I TRYED DIFFERENT ALGORITHM  LIKE \n",
        "\n",
        "           LINEAR REGRESSION\n",
        "           DESSION TREE REG\n",
        "           KNN REG\n",
        "           RANDOM FOREST\n",
        "\n",
        "  BUT \n",
        "      XG BOOST GIVES ME BEST RESULT         \n",
        "\n"
      ],
      "metadata": {
        "id": "K9SuBlUp2S7n"
      }
    },
    {
      "cell_type": "code",
      "source": [
        ""
      ],
      "metadata": {
        "id": "lYoTMlyj2Sml"
      },
      "execution_count": null,
      "outputs": []
    },
    {
      "cell_type": "markdown",
      "source": [
        "##FINDING THE VALUE OF HYPER PARMETER (LEARNING RATE ) USING CV"
      ],
      "metadata": {
        "id": "kZDXYU-FoSC0"
      }
    },
    {
      "cell_type": "code",
      "source": [
        "import xgboost as xgb\n",
        "from sklearn.model_selection import cross_val_score\n",
        "import numpy as np\n",
        "for lr in [0.01,0.02,0.03,0.04,0.05,0.06,0.07,0.08,0.09,0.1,0.11,0.12,0.13,0.14,0.15,0.2,0.5,0.7,1]:\n",
        "  model = xgb.XGBRegressor(learning_rate = lr, n_estimators=100, verbosity = 0) # initialise the model\n",
        "  model.fit(X_train,y_train) #train the model\n",
        "  model.score(X_test, y_test) # scoring the model - r2 squared\n",
        "  print(\"Learning rate : \", lr, \" Train score : \", model.score(X_train,y_train), \" Cross-Val score : \", np.mean(cross_val_score(model, X_train, y_train, cv=10)))"
      ],
      "metadata": {
        "colab": {
          "base_uri": "https://localhost:8080/"
        },
        "id": "MXuD7wFTCabQ",
        "outputId": "25b1b367-45ab-4571-b2a7-ed56daf57687"
      },
      "execution_count": 76,
      "outputs": [
        {
          "output_type": "stream",
          "name": "stdout",
          "text": [
            "Learning rate :  0.01  Train score :  -0.3755753618048918  Cross-Val score :  -0.38131979299091323\n",
            "Learning rate :  0.02  Train score :  0.74695706074766  Cross-Val score :  0.7441227263721615\n",
            "Learning rate :  0.03  Train score :  0.9250031057891327  Cross-Val score :  0.9224819011287734\n",
            "Learning rate :  0.04  Train score :  0.9623105813311924  Cross-Val score :  0.9600586654436662\n",
            "Learning rate :  0.05  Train score :  0.9745001632433544  Cross-Val score :  0.9725330778276616\n",
            "Learning rate :  0.06  Train score :  0.9804664688388537  Cross-Val score :  0.978553805659352\n",
            "Learning rate :  0.07  Train score :  0.9845204053087363  Cross-Val score :  0.9830362932786887\n",
            "Learning rate :  0.08  Train score :  0.9879383028961517  Cross-Val score :  0.9861438155704952\n",
            "Learning rate :  0.09  Train score :  0.9902568540066163  Cross-Val score :  0.988745818409031\n",
            "Learning rate :  0.1  Train score :  0.992015198698044  Cross-Val score :  0.9904033605549533\n",
            "Learning rate :  0.11  Train score :  0.9929701287913185  Cross-Val score :  0.991695141526324\n",
            "Learning rate :  0.12  Train score :  0.9938639447880313  Cross-Val score :  0.9926564801408558\n",
            "Learning rate :  0.13  Train score :  0.9949305083281607  Cross-Val score :  0.9935983254828606\n",
            "Learning rate :  0.14  Train score :  0.9950563609597738  Cross-Val score :  0.9941526001506528\n",
            "Learning rate :  0.15  Train score :  0.9955804108015566  Cross-Val score :  0.9945252877302571\n",
            "Learning rate :  0.2  Train score :  0.9963839899928685  Cross-Val score :  0.9953919539586737\n",
            "Learning rate :  0.5  Train score :  0.9975196480176818  Cross-Val score :  0.9963631322634072\n",
            "Learning rate :  0.7  Train score :  0.9979305699706317  Cross-Val score :  0.9966596718792585\n",
            "Learning rate :  1  Train score :  0.9973783333619636  Cross-Val score :  0.9959751289175112\n"
          ]
        }
      ]
    },
    {
      "cell_type": "markdown",
      "source": [
        "##TAKING THE LR RATE = 0.7 AND BUILDING THE XG BOOST REGREESION MODEL"
      ],
      "metadata": {
        "id": "PTlAPKtmohcu"
      }
    },
    {
      "cell_type": "code",
      "source": [
        "model = xgb.XGBRegressor(learning_rate = 0.7, n_estimators=100)\n",
        "model.fit(X_train,y_train) #train the model\n",
        "model.score(X_test, y_test) # scoring the model - r2 squared"
      ],
      "metadata": {
        "colab": {
          "base_uri": "https://localhost:8080/"
        },
        "id": "-2LtgptTE__B",
        "outputId": "c1965208-fbc5-468b-b04d-4437bd9af5c3"
      },
      "execution_count": 77,
      "outputs": [
        {
          "output_type": "stream",
          "name": "stdout",
          "text": [
            "[15:59:03] WARNING: /workspace/src/objective/regression_obj.cu:152: reg:linear is now deprecated in favor of reg:squarederror.\n"
          ]
        },
        {
          "output_type": "execute_result",
          "data": {
            "text/plain": [
              "0.9971161720757401"
            ]
          },
          "metadata": {},
          "execution_count": 77
        }
      ]
    },
    {
      "cell_type": "code",
      "source": [
        "y_pred = model.predict(X_test)"
      ],
      "metadata": {
        "id": "Fvm8rlAfFXON"
      },
      "execution_count": 78,
      "outputs": []
    },
    {
      "cell_type": "code",
      "source": [
        "from sklearn import metrics\n",
        "print('R2- SCORE:', metrics.r2_score(y_test,y_pred))"
      ],
      "metadata": {
        "colab": {
          "base_uri": "https://localhost:8080/"
        },
        "id": "HhoqhT6nFaZq",
        "outputId": "19da7f86-db76-4499-cc79-0acece1d7cd8"
      },
      "execution_count": 79,
      "outputs": [
        {
          "output_type": "stream",
          "name": "stdout",
          "text": [
            "R2- SCORE: 0.9971161720757401\n"
          ]
        }
      ]
    },
    {
      "cell_type": "code",
      "source": [
        "\n",
        "# Get numerical feature importances\n",
        "importances = list(model.feature_importances_)\n",
        "\n",
        "# List of tuples with variable and importance\n",
        "feature_importances = [(feature, round(importance, 2)) for feature, importance in zip(X, importances)]\n",
        "\n",
        "# Sort the feature importances by most important first\n",
        "feature_importances = sorted(feature_importances, key = lambda x: x[1], reverse = True)\n",
        "\n",
        "# Print out the feature and importances \n",
        "[print('Variable: {:20} Importance: {}'.format(*pair)) for pair in feature_importances];"
      ],
      "metadata": {
        "colab": {
          "base_uri": "https://localhost:8080/"
        },
        "id": "cUvuQb4pGunY",
        "outputId": "ed440255-049f-4b5b-e8cb-6745c9f872fb"
      },
      "execution_count": 80,
      "outputs": [
        {
          "output_type": "stream",
          "name": "stdout",
          "text": [
            "Variable: AREA                 Importance: 0.4000000059604645\n",
            "Variable: commercial           Importance: 0.3799999952316284\n",
            "Variable: PARK_FACIL           Importance: 0.07000000029802322\n",
            "Variable: INT_SQFT             Importance: 0.03999999910593033\n",
            "Variable: MZZONE               Importance: 0.03999999910593033\n",
            "Variable: STREET               Importance: 0.019999999552965164\n",
            "Variable: House                Importance: 0.019999999552965164\n",
            "Variable: N_ROOM               Importance: 0.009999999776482582\n",
            "Variable: SALE_COND            Importance: 0.009999999776482582\n",
            "Variable: N_BEDROOM            Importance: 0.0\n",
            "Variable: N_BATHROOM           Importance: 0.0\n",
            "Variable: UTILITY_AVAIL        Importance: 0.0\n",
            "Variable: Age_of_building      Importance: 0.0\n",
            "Variable: others               Importance: 0.0\n"
          ]
        }
      ]
    },
    {
      "cell_type": "markdown",
      "source": [
        "## TAKING TWO FEATURE AND DEVELOPING THE MODEL"
      ],
      "metadata": {
        "id": "l27S56zZoCqf"
      }
    },
    {
      "cell_type": "code",
      "source": [
        "X_new=daf[['commercial','AREA']]"
      ],
      "metadata": {
        "id": "tW6CXGu1MgCR"
      },
      "execution_count": 81,
      "outputs": []
    },
    {
      "cell_type": "code",
      "source": [
        "from sklearn.model_selection import train_test_split #import the required function\n",
        "X_train, X_test, y_train, y_test = train_test_split(X_new, y, test_size=0.2)"
      ],
      "metadata": {
        "id": "A4sB8sZqNAkA"
      },
      "execution_count": 82,
      "outputs": []
    },
    {
      "cell_type": "code",
      "source": [
        "model = xgb.XGBRegressor(learning_rate = 0.7, n_estimators=100)\n",
        "model.fit(X_train,y_train) #train the model\n",
        "model.score(X_test, y_test) # scoring the model - r2 squared"
      ],
      "metadata": {
        "colab": {
          "base_uri": "https://localhost:8080/"
        },
        "id": "A_Ta9v6hNYY9",
        "outputId": "4ab6807d-6d72-4bc7-bafe-2ed1d3ce80c3"
      },
      "execution_count": 83,
      "outputs": [
        {
          "output_type": "stream",
          "name": "stdout",
          "text": [
            "[15:59:04] WARNING: /workspace/src/objective/regression_obj.cu:152: reg:linear is now deprecated in favor of reg:squarederror.\n"
          ]
        },
        {
          "output_type": "execute_result",
          "data": {
            "text/plain": [
              "0.8128687366377951"
            ]
          },
          "metadata": {},
          "execution_count": 83
        }
      ]
    },
    {
      "cell_type": "markdown",
      "source": [
        "##QUESTION 1"
      ],
      "metadata": {
        "id": "EdGzhq_muRxh"
      }
    },
    {
      "cell_type": "markdown",
      "source": [
        "##INTERPRETATION"
      ],
      "metadata": {
        "id": "P5DPsP85o05T"
      }
    },
    {
      "cell_type": "markdown",
      "source": [
        "\n",
        "\n",
        "1.   IF YOU ARE A REAL ESTATE AGENT YOU SHOULD LOOK  [ORDER IS IMPORATANT]\n",
        "\n",
        "*   AREA                \n",
        "*   commercial\n",
        "*   PARK_FACIL\n",
        "*   INT_SQFT\n",
        "*   MZZONE\n",
        "*   STREET\n",
        "*   HOUSE\n",
        "*   N_BATHROOM\n",
        "*   N_ROOM\n",
        "*   SALE_COND\n",
        "*   List item\n",
        "\n",
        " IN SAME ORDER YOU SHOULD LOOK MORE THE POINT YOU COVER MORE PROFIT \n",
        "\n",
        "\n",
        "\n",
        "\n",
        "1.   IF YOU ARE A PERSON LOKING TO BUY A HOUSE \n",
        "             \n",
        "             MORE THE POINTS COVER ORE MONEY YOU HAVE TO PAY \n",
        "\n",
        "1.   NOTE\n",
        "\n",
        "        * THESE MODEL DOES NOT INCLUDE REGITRATION FEES AND COMMISSION\n",
        "        * BECAUSE THAT DIFFERS FROM PERSON TO PERSON \n",
        "\n",
        "\n",
        "\n",
        "\n",
        "\n",
        "\n"
      ],
      "metadata": {
        "id": "NrMDuHEOqT2x"
      }
    },
    {
      "cell_type": "markdown",
      "source": [
        "QUESTION 2"
      ],
      "metadata": {
        "id": "S7mRL_vLuRHf"
      }
    },
    {
      "cell_type": "markdown",
      "source": [
        "better to give a forecast range (range of permissible values) rather than a single estimate as it will help the customers to negotiate"
      ],
      "metadata": {
        "id": "YYrS7s1luYZO"
      }
    },
    {
      "cell_type": "markdown",
      "source": [
        "ANSWER\n",
        "\n",
        "PREDICTED O/P + 3768603      [FOR UPPER RANGE]\n",
        "\n",
        "PREDICTED O/P - 3768603      [ FOR LOWER RANGE]"
      ],
      "metadata": {
        "id": "cxzjdtlF1DH5"
      }
    }
  ]
}